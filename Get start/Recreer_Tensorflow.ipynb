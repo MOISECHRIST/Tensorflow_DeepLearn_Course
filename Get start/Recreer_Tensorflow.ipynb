{
 "cells": [
  {
   "cell_type": "markdown",
   "metadata": {
    "colab_type": "text",
    "id": "view-in-github"
   },
   "source": [
    "<a href=\"https://colab.research.google.com/github/MOISECHRIST/Tensorflow_DeepLearn_Course/blob/main/Recreer_Tensorflow.ipynb\" target=\"_parent\"><img src=\"https://colab.research.google.com/assets/colab-badge.svg\" alt=\"Open In Colab\"/></a>"
   ]
  },
  {
   "cell_type": "markdown",
   "metadata": {
    "id": "tKpejCmisnkO"
   },
   "source": [
    "# Recreer Tensorflow"
   ]
  },
  {
   "cell_type": "code",
   "execution_count": 1,
   "metadata": {
    "id": "DyW_TFPRLTSR"
   },
   "outputs": [],
   "source": [
    "import numpy as np\n",
    "import matplotlib.pyplot as plt\n",
    "import seaborn as sns"
   ]
  },
  {
   "cell_type": "markdown",
   "metadata": {
    "id": "329E0Bbysx4y"
   },
   "source": [
    "## Creation des boites pour les différentes opéralitions de chaque couche"
   ]
  },
  {
   "cell_type": "markdown",
   "metadata": {
    "id": "AvL_cXlfs8tT"
   },
   "source": [
    "### Boite Générique"
   ]
  },
  {
   "cell_type": "code",
   "execution_count": 2,
   "metadata": {
    "id": "zF2u9bO-LiDo"
   },
   "outputs": [],
   "source": [
    "class BoxGeneric:\n",
    "  def __init__(self):\n",
    "    pass\n",
    "\n",
    "  def forward(self, imputs):\n",
    "    self.imputs = imputs\n",
    "    self.output = self.compute()\n",
    "    return self.output\n",
    "\n",
    "  def backward(self, derivee_output):\n",
    "    assert self.output.shape == derivee_output.shape, f\"La dérivee de l'output a un shape {derivee_output.shape} différent de ce celui de output {self.output.shape}\"\n",
    "    self.derivee_output = derivee_output\n",
    "\n",
    "    self.derivee_input = self.compute_gradient()\n",
    "    return self.derivee_input\n",
    "\n",
    "  def compute(self):\n",
    "    pass\n",
    "\n",
    "  def compute_gradient(self):\n",
    "    pass"
   ]
  },
  {
   "cell_type": "markdown",
   "metadata": {
    "id": "YG8QOWg-tCk2"
   },
   "source": [
    "### Boite Avec Parametre"
   ]
  },
  {
   "cell_type": "code",
   "execution_count": 3,
   "metadata": {
    "id": "zzNB1VV7NnaW"
   },
   "outputs": [],
   "source": [
    "class BoxParams(BoxGeneric):\n",
    "  def __init__(self, params):\n",
    "    super().__init__()\n",
    "    self.params = params\n",
    "\n",
    "  def backward(self, derivee_output):\n",
    "    assert self.output.shape == derivee_output.shape, f\"La dérivee de l'output a un shape {derivee_output.shape} différent de ce celui de output {self.output.shape}\"\n",
    "    self.derivee_output = derivee_output\n",
    "\n",
    "    self.derivee_input = self.compute_gradient()\n",
    "    self.derivee_params = self.compute_gradient_params()\n",
    "\n",
    "    assert self.params.shape == self.derivee_params.shape, f\"La dérivee des parametres a un shape {self.derivee_params.shape} différent de ce celui des parametres {self.params.shape}\"\n",
    "    assert self.derivee_input.shape == self.imputs.shape, f\"La dérivee des imputs calculee a un shape {self.derivee_input.shape} différent de ce celui des parametres {self.imputs.shape}\"\n",
    "\n",
    "    return self.derivee_input\n",
    "\n",
    "  def update_params(self, lr = 0.001):\n",
    "    self.params=self.params - lr*self.derivee_params\n",
    "\n",
    "  def compute_gradient_params(self):\n",
    "    pass"
   ]
  },
  {
   "cell_type": "markdown",
   "metadata": {
    "id": "osXCwJuEtKYP"
   },
   "source": [
    "#### Opération Produit Matriciel W*X"
   ]
  },
  {
   "cell_type": "code",
   "execution_count": 4,
   "metadata": {
    "id": "7TRi29aYbiWO"
   },
   "outputs": [],
   "source": [
    "class BoxDotOperation(BoxParams):\n",
    "  def __init__(self, weight):\n",
    "    super().__init__(weight)\n",
    "\n",
    "  def compute(self):\n",
    "    return np.dot(self.imputs, self.params)\n",
    "\n",
    "  def compute_gradient(self):\n",
    "    return np.dot(self.derivee_output, self.params.T)\n",
    "\n",
    "  def compute_gradient_params(self):\n",
    "    return np.dot(self.imputs.T, self.derivee_output)\n",
    "\n",
    "  def __repr__(self):\n",
    "    return \"DotOperation\""
   ]
  },
  {
   "cell_type": "markdown",
   "metadata": {
    "id": "tQGl3ttMtVJy"
   },
   "source": [
    "On teste la classe `BoxDotOperation`"
   ]
  },
  {
   "cell_type": "code",
   "execution_count": 5,
   "metadata": {
    "id": "GL4JklY4dM0D"
   },
   "outputs": [],
   "source": [
    "X=np.array([[2,3,-2],\n",
    "            [4,5,-1],\n",
    "            [5,2,3],\n",
    "            [0,5,4]])"
   ]
  },
  {
   "cell_type": "code",
   "execution_count": 6,
   "metadata": {
    "colab": {
     "base_uri": "https://localhost:8080/"
    },
    "id": "qzOZy5zfdvNN",
    "outputId": "1933528a-3c84-4931-ba8e-e2cd3ae5d167"
   },
   "outputs": [
    {
     "data": {
      "text/plain": [
       "(4, 3)"
      ]
     },
     "execution_count": 6,
     "metadata": {},
     "output_type": "execute_result"
    }
   ],
   "source": [
    "X.shape"
   ]
  },
  {
   "cell_type": "code",
   "execution_count": 7,
   "metadata": {
    "id": "6-9bSPt-dwxJ"
   },
   "outputs": [],
   "source": [
    "W=np.array([[0.49671415],\n",
    "            [-0.1382643],\n",
    "            [0.64768854]])"
   ]
  },
  {
   "cell_type": "code",
   "execution_count": 8,
   "metadata": {
    "colab": {
     "base_uri": "https://localhost:8080/"
    },
    "id": "C1XINkmDePa-",
    "outputId": "edf15aac-8036-4521-8071-ae5b7033d1a7"
   },
   "outputs": [
    {
     "data": {
      "text/plain": [
       "(3, 1)"
      ]
     },
     "execution_count": 8,
     "metadata": {},
     "output_type": "execute_result"
    }
   ],
   "source": [
    "W.shape"
   ]
  },
  {
   "cell_type": "code",
   "execution_count": 9,
   "metadata": {
    "colab": {
     "base_uri": "https://localhost:8080/"
    },
    "id": "PYdKR4-TeRes",
    "outputId": "3b7b1936-c9b2-4cff-b527-1f0a45680375"
   },
   "outputs": [
    {
     "data": {
      "text/plain": [
       "array([[-0.71674168],\n",
       "       [ 0.64784656],\n",
       "       [ 4.15010777],\n",
       "       [ 1.89943266]])"
      ]
     },
     "execution_count": 9,
     "metadata": {},
     "output_type": "execute_result"
    }
   ],
   "source": [
    "np.dot(X,W)"
   ]
  },
  {
   "cell_type": "code",
   "execution_count": 10,
   "metadata": {
    "id": "ofcb5Er-eZt3"
   },
   "outputs": [],
   "source": [
    "M = BoxDotOperation(W)\n",
    "out_dot=M.forward(X)"
   ]
  },
  {
   "cell_type": "code",
   "execution_count": 11,
   "metadata": {
    "colab": {
     "base_uri": "https://localhost:8080/"
    },
    "id": "4Nx8B0VZeiqc",
    "outputId": "5a085722-1d7a-4473-ee05-d65b1b8097d1"
   },
   "outputs": [
    {
     "data": {
      "text/plain": [
       "array([[ 0.35493983],\n",
       "       [-0.45885961],\n",
       "       [-0.4309696 ],\n",
       "       [-0.06352268]])"
      ]
     },
     "execution_count": 11,
     "metadata": {},
     "output_type": "execute_result"
    }
   ],
   "source": [
    "d_output = np.random.randn(4,1)\n",
    "d_output"
   ]
  },
  {
   "cell_type": "code",
   "execution_count": 12,
   "metadata": {
    "colab": {
     "base_uri": "https://localhost:8080/"
    },
    "id": "zraoAFqMfbwZ",
    "outputId": "deff1be1-ec02-4746-f369-3950c1592e1e"
   },
   "outputs": [
    {
     "data": {
      "text/plain": [
       "array([[ 0.17630363, -0.04907551,  0.22989046],\n",
       "       [-0.22792206,  0.0634439 , -0.29719811],\n",
       "       [-0.2140687 ,  0.05958771, -0.27913407],\n",
       "       [-0.03155261,  0.00878292, -0.04114291]])"
      ]
     },
     "execution_count": 12,
     "metadata": {},
     "output_type": "execute_result"
    }
   ],
   "source": [
    "M.backward(d_output)"
   ]
  },
  {
   "cell_type": "code",
   "execution_count": 13,
   "metadata": {
    "colab": {
     "base_uri": "https://localhost:8080/"
    },
    "id": "KSPJMX9GgthK",
    "outputId": "20d87f8f-414a-4f35-8dac-362d0eaf704b"
   },
   "outputs": [
    {
     "data": {
      "text/plain": [
       "(3, 1)"
      ]
     },
     "execution_count": 13,
     "metadata": {},
     "output_type": "execute_result"
    }
   ],
   "source": [
    "M.derivee_params.shape"
   ]
  },
  {
   "cell_type": "markdown",
   "metadata": {
    "id": "evEs8Lo3ti3T"
   },
   "source": [
    "#### Opération Ajout du biais"
   ]
  },
  {
   "cell_type": "code",
   "execution_count": 14,
   "metadata": {
    "id": "W957pB24gc67"
   },
   "outputs": [],
   "source": [
    "class BoxAddBiasOperation(BoxParams):\n",
    "  def __init__(self, bias):\n",
    "    super().__init__(bias)\n",
    "\n",
    "  def compute(self):\n",
    "    return self.imputs + self.params\n",
    "\n",
    "  def compute_gradient(self):\n",
    "    return np.ones_like(self.imputs) * self.derivee_output\n",
    "\n",
    "  def compute_gradient_params(self):\n",
    "    return (np.ones_like(self.imputs) * self.derivee_output).sum(axis=0).reshape(1,-1)\n",
    "\n",
    "  def __repr__(self):\n",
    "    return \"AddBiasOperation\""
   ]
  },
  {
   "cell_type": "markdown",
   "metadata": {
    "id": "5AauMQCVtqrI"
   },
   "source": [
    "On teste la classe `BoxAddBiasOperation`"
   ]
  },
  {
   "cell_type": "code",
   "execution_count": 15,
   "metadata": {
    "colab": {
     "base_uri": "https://localhost:8080/"
    },
    "id": "Qz7FC7mVjocc",
    "outputId": "1b2627bf-1417-4b46-a3d7-cd536855158c"
   },
   "outputs": [
    {
     "data": {
      "text/plain": [
       "array([[0.5424626]])"
      ]
     },
     "execution_count": 15,
     "metadata": {},
     "output_type": "execute_result"
    }
   ],
   "source": [
    "B = np.random.rand(1,1)\n",
    "B"
   ]
  },
  {
   "cell_type": "code",
   "execution_count": 16,
   "metadata": {
    "colab": {
     "base_uri": "https://localhost:8080/"
    },
    "id": "khG-1HGQjyHg",
    "outputId": "c500152e-df87-40b9-9b13-1de41544d78f"
   },
   "outputs": [
    {
     "data": {
      "text/plain": [
       "array([[-0.17427908],\n",
       "       [ 1.19030916],\n",
       "       [ 4.69257037],\n",
       "       [ 2.44189526]])"
      ]
     },
     "execution_count": 16,
     "metadata": {},
     "output_type": "execute_result"
    }
   ],
   "source": [
    "b = BoxAddBiasOperation(B)\n",
    "b.forward(out_dot)"
   ]
  },
  {
   "cell_type": "code",
   "execution_count": 17,
   "metadata": {
    "id": "WhH8mOBLj6cA"
   },
   "outputs": [],
   "source": [
    "out_b=b.backward(d_output)"
   ]
  },
  {
   "cell_type": "markdown",
   "metadata": {
    "id": "8QFMbn4Rt1u8"
   },
   "source": [
    "### Opération Non paramétriques"
   ]
  },
  {
   "cell_type": "markdown",
   "metadata": {
    "id": "PwhPVh3_t_aF"
   },
   "source": [
    "#### Sigmoid"
   ]
  },
  {
   "cell_type": "code",
   "execution_count": 18,
   "metadata": {
    "id": "pBd7P3FUk44P"
   },
   "outputs": [],
   "source": [
    "class Sigmoid(BoxGeneric):\n",
    "  def __init__(self):\n",
    "    super().__init__()\n",
    "\n",
    "  def compute(self):\n",
    "    return 1/(1+np.exp(-self.imputs))\n",
    "\n",
    "  def compute_gradient(self):\n",
    "    return self.output * (1-self.output) * self.derivee_output\n",
    "\n",
    "  def __repr__(self):\n",
    "    return \"Sigmoid\""
   ]
  },
  {
   "cell_type": "code",
   "execution_count": 19,
   "metadata": {
    "colab": {
     "base_uri": "https://localhost:8080/"
    },
    "id": "3w3pVBq-k40r",
    "outputId": "e168306e-3f22-44a1-af85-83862ec80d97"
   },
   "outputs": [
    {
     "data": {
      "text/plain": [
       "array([[0.58781496],\n",
       "       [0.38725639],\n",
       "       [0.39389482],\n",
       "       [0.48412467]])"
      ]
     },
     "execution_count": 19,
     "metadata": {},
     "output_type": "execute_result"
    }
   ],
   "source": [
    "f=Sigmoid()\n",
    "f.forward(out_b)"
   ]
  },
  {
   "cell_type": "code",
   "execution_count": 20,
   "metadata": {
    "id": "oCzNZP3kmMKH"
   },
   "outputs": [],
   "source": [
    "y_hat = f.backward(d_output)"
   ]
  },
  {
   "cell_type": "markdown",
   "metadata": {
    "id": "LF2gVNQWuC1d"
   },
   "source": [
    "#### Tanh"
   ]
  },
  {
   "cell_type": "code",
   "execution_count": 21,
   "metadata": {
    "id": "R2wztlW5mokr"
   },
   "outputs": [],
   "source": [
    "class Tanh(BoxGeneric):\n",
    "  def __init__(self):\n",
    "    super().__init__()\n",
    "\n",
    "  def compute(self):\n",
    "    return np.tanh(self.imputs)\n",
    "\n",
    "  def compute_gradient(self):\n",
    "    return 1 - np.tanh(self.imputs)**2 * self.derivee_output\n",
    "\n",
    "  def __repr__(self):\n",
    "    return \"Tanh\""
   ]
  },
  {
   "cell_type": "code",
   "execution_count": 22,
   "metadata": {
    "colab": {
     "base_uri": "https://localhost:8080/"
    },
    "id": "y1zDu7ouohaw",
    "outputId": "5d9c2e83-971f-491c-ed0b-d2fdf352d334"
   },
   "outputs": [
    {
     "data": {
      "text/plain": [
       "array([[ 0.34074913],\n",
       "       [-0.42915431],\n",
       "       [-0.4061313 ],\n",
       "       [-0.06343737]])"
      ]
     },
     "execution_count": 22,
     "metadata": {},
     "output_type": "execute_result"
    }
   ],
   "source": [
    "g=Tanh()\n",
    "g.forward(out_b)"
   ]
  },
  {
   "cell_type": "code",
   "execution_count": 23,
   "metadata": {
    "colab": {
     "base_uri": "https://localhost:8080/"
    },
    "id": "qgM27hBkokHz",
    "outputId": "93cc1aad-366b-47a4-b57c-39e1baec339c"
   },
   "outputs": [
    {
     "data": {
      "text/plain": [
       "array([[0.95878795],\n",
       "       [1.08450974],\n",
       "       [1.07108526],\n",
       "       [1.00025563]])"
      ]
     },
     "execution_count": 23,
     "metadata": {},
     "output_type": "execute_result"
    }
   ],
   "source": [
    "g.backward(d_output)"
   ]
  },
  {
   "cell_type": "markdown",
   "metadata": {
    "id": "K7Em92cSuHu_"
   },
   "source": [
    "#### Softmax"
   ]
  },
  {
   "cell_type": "code",
   "execution_count": 24,
   "metadata": {
    "id": "a4ZLaaTPm42G"
   },
   "outputs": [],
   "source": [
    "class Softmax(BoxGeneric):\n",
    "  def __init__(self):\n",
    "    super().__init__()\n",
    "\n",
    "  def compute(self):\n",
    "    tmp = np.sum(np.exp(self.imputs))\n",
    "    return np.exp(self.imputs) / tmp\n",
    "\n",
    "  def compute_gradient(self):\n",
    "    return self.output * (1-self.output) * self.derivee_output\n",
    "\n",
    "  def __repr__(self):\n",
    "    return \"Softmax\""
   ]
  },
  {
   "cell_type": "code",
   "execution_count": 25,
   "metadata": {
    "colab": {
     "base_uri": "https://localhost:8080/"
    },
    "id": "wvo66Mtjooco",
    "outputId": "9f54cc17-1109-49d0-c76f-b08ef010b573"
   },
   "outputs": [
    {
     "data": {
      "text/plain": [
       "array([[0.3910934 ],\n",
       "       [0.17332128],\n",
       "       [0.17822325],\n",
       "       [0.25736207]])"
      ]
     },
     "execution_count": 25,
     "metadata": {},
     "output_type": "execute_result"
    }
   ],
   "source": [
    "h=Softmax()\n",
    "h.forward(out_b)"
   ]
  },
  {
   "cell_type": "code",
   "execution_count": 26,
   "metadata": {
    "colab": {
     "base_uri": "https://localhost:8080/"
    },
    "id": "tprs7rN4orZ2",
    "outputId": "2a783555-6fbf-4215-fb1f-f3301f6104e3"
   },
   "outputs": [
    {
     "data": {
      "text/plain": [
       "array([[ 0.08452514],\n",
       "       [-0.06574587],\n",
       "       [-0.06311969],\n",
       "       [-0.01214089]])"
      ]
     },
     "execution_count": 26,
     "metadata": {},
     "output_type": "execute_result"
    }
   ],
   "source": [
    "h.backward(d_output)"
   ]
  },
  {
   "cell_type": "markdown",
   "metadata": {
    "id": "5bM2RfafuMGf"
   },
   "source": [
    "#### Relu"
   ]
  },
  {
   "cell_type": "code",
   "execution_count": 27,
   "metadata": {
    "id": "mQHIjmXRnKHJ"
   },
   "outputs": [],
   "source": [
    "class Relu(BoxGeneric):\n",
    "  def __init__(self):\n",
    "    super().__init__()\n",
    "\n",
    "  def compute(self):\n",
    "    return np.maximum(0, self.imputs)\n",
    "\n",
    "  def compute_gradient(self):\n",
    "    return (self.imputs > 0) * self.derivee_output\n",
    "\n",
    "  def __repr__(self):\n",
    "    return \"Relu\""
   ]
  },
  {
   "cell_type": "code",
   "execution_count": 28,
   "metadata": {
    "colab": {
     "base_uri": "https://localhost:8080/"
    },
    "id": "dzPQi7NUpAtf",
    "outputId": "ddd1d97b-019a-4731-f9bc-3fe8bf96d4dc"
   },
   "outputs": [
    {
     "data": {
      "text/plain": [
       "array([[0.35493983],\n",
       "       [0.        ],\n",
       "       [0.        ],\n",
       "       [0.        ]])"
      ]
     },
     "execution_count": 28,
     "metadata": {},
     "output_type": "execute_result"
    }
   ],
   "source": [
    "r = Relu()\n",
    "r.forward(out_b)"
   ]
  },
  {
   "cell_type": "code",
   "execution_count": 29,
   "metadata": {
    "colab": {
     "base_uri": "https://localhost:8080/"
    },
    "id": "pHR89fDepE33",
    "outputId": "a4ccb791-3884-4d42-d09e-a497fa23b00a"
   },
   "outputs": [
    {
     "data": {
      "text/plain": [
       "array([[ 0.35493983],\n",
       "       [-0.        ],\n",
       "       [-0.        ],\n",
       "       [-0.        ]])"
      ]
     },
     "execution_count": 29,
     "metadata": {},
     "output_type": "execute_result"
    }
   ],
   "source": [
    "r.backward(d_output)"
   ]
  },
  {
   "cell_type": "markdown",
   "metadata": {
    "id": "xMhc7ll4uOeN"
   },
   "source": [
    "#### Linéaire"
   ]
  },
  {
   "cell_type": "code",
   "execution_count": 30,
   "metadata": {
    "id": "D3yAVXRFqSnf"
   },
   "outputs": [],
   "source": [
    "class Linear(BoxGeneric):\n",
    "  def __init__(self):\n",
    "    super().__init__()\n",
    "\n",
    "  def compute(self):\n",
    "    return self.imputs\n",
    "\n",
    "  def compute_gradient(self):\n",
    "    return np.ones_like(self.imputs)* self.derivee_output\n",
    "\n",
    "  def __repr__(self):\n",
    "    return \"Linear\""
   ]
  },
  {
   "cell_type": "code",
   "execution_count": 31,
   "metadata": {
    "colab": {
     "base_uri": "https://localhost:8080/"
    },
    "id": "XY1L-HfSrslG",
    "outputId": "cee45bb5-1048-462e-d416-094aa41c3849"
   },
   "outputs": [
    {
     "data": {
      "text/plain": [
       "array([[ 0.35493983],\n",
       "       [-0.45885961],\n",
       "       [-0.4309696 ],\n",
       "       [-0.06352268]])"
      ]
     },
     "execution_count": 31,
     "metadata": {},
     "output_type": "execute_result"
    }
   ],
   "source": [
    "l=Linear()\n",
    "l.forward(out_b)"
   ]
  },
  {
   "cell_type": "code",
   "execution_count": 32,
   "metadata": {
    "colab": {
     "base_uri": "https://localhost:8080/"
    },
    "id": "Jr6dx-3br1dp",
    "outputId": "ba0ce292-5d52-4e7c-dd7d-d8844017e12d"
   },
   "outputs": [
    {
     "data": {
      "text/plain": [
       "array([[ 0.35493983],\n",
       "       [-0.45885961],\n",
       "       [-0.4309696 ],\n",
       "       [-0.06352268]])"
      ]
     },
     "execution_count": 32,
     "metadata": {},
     "output_type": "execute_result"
    }
   ],
   "source": [
    "l.backward(d_output)"
   ]
  },
  {
   "cell_type": "markdown",
   "metadata": {
    "id": "2dfNLkm6z7Ii"
   },
   "source": [
    "### Calcul des erreurs"
   ]
  },
  {
   "cell_type": "code",
   "execution_count": 33,
   "metadata": {
    "id": "81TPH_pV42U8"
   },
   "outputs": [],
   "source": [
    "class LossBox(BoxGeneric):\n",
    "  def __init__(self):\n",
    "    super().__init__()\n",
    "\n",
    "  def forward(self, predic, target):\n",
    "    self.predic = predic\n",
    "    self.target = target\n",
    "    self.output = self.compute()\n",
    "    return self.output\n",
    "\n",
    "  def backward(self):\n",
    "    self.derivee_input = self.compute_gradient()\n",
    "    return self.derivee_input"
   ]
  },
  {
   "cell_type": "markdown",
   "metadata": {
    "id": "WlK31WoQ0HuP"
   },
   "source": [
    "#### MSE"
   ]
  },
  {
   "cell_type": "code",
   "execution_count": 34,
   "metadata": {
    "id": "_WvMIkoxvWWN"
   },
   "outputs": [],
   "source": [
    "class MSE(LossBox):\n",
    "  def __init__(self):\n",
    "    super().__init__()\n",
    "\n",
    "  def compute(self):\n",
    "    return np.mean((self.predic - self.target)**2)\n",
    "\n",
    "  def compute_gradient(self):\n",
    "    return 2 * (self.predic - self.target)\n",
    "\n",
    "  def __repr__(self):\n",
    "    return \"MSE\""
   ]
  },
  {
   "cell_type": "code",
   "execution_count": 35,
   "metadata": {
    "colab": {
     "base_uri": "https://localhost:8080/"
    },
    "id": "VpF7p15a3r5V",
    "outputId": "0394d4e8-42bc-41c4-c9a0-7fdef5e74e5a"
   },
   "outputs": [
    {
     "data": {
      "text/plain": [
       "array([[0.90179754],\n",
       "       [0.35486995],\n",
       "       [0.8159159 ],\n",
       "       [0.00295212]])"
      ]
     },
     "execution_count": 35,
     "metadata": {},
     "output_type": "execute_result"
    }
   ],
   "source": [
    "y=np.random.rand(4,1)\n",
    "y"
   ]
  },
  {
   "cell_type": "code",
   "execution_count": 36,
   "metadata": {
    "colab": {
     "base_uri": "https://localhost:8080/"
    },
    "id": "avfsjF-U3wy1",
    "outputId": "7d323aa7-68f6-425a-cb8a-4adca36f3dff"
   },
   "outputs": [
    {
     "data": {
      "text/plain": [
       "0.4312885950156599"
      ]
     },
     "execution_count": 36,
     "metadata": {},
     "output_type": "execute_result"
    }
   ],
   "source": [
    "error = MSE()\n",
    "error.forward(y_hat, y)"
   ]
  },
  {
   "cell_type": "code",
   "execution_count": 37,
   "metadata": {
    "colab": {
     "base_uri": "https://localhost:8080/"
    },
    "id": "oF_XFi4W4GUE",
    "outputId": "92141a68-81d2-49f1-8412-0f07e097f55a"
   },
   "outputs": [
    {
     "data": {
      "text/plain": [
       "array([[-1.63159938],\n",
       "       [-0.92750447],\n",
       "       [-1.83761263],\n",
       "       [-0.03763357]])"
      ]
     },
     "execution_count": 37,
     "metadata": {},
     "output_type": "execute_result"
    }
   ],
   "source": [
    "error.backward()"
   ]
  },
  {
   "cell_type": "markdown",
   "metadata": {
    "id": "5kBAGF4e6xhl"
   },
   "source": [
    "#### RMSE"
   ]
  },
  {
   "cell_type": "code",
   "execution_count": 38,
   "metadata": {
    "id": "N2irLQbh6yLD"
   },
   "outputs": [],
   "source": [
    "class RMSE(LossBox):\n",
    "  def __init__(self):\n",
    "    super().__init__()\n",
    "\n",
    "  def compute(self):\n",
    "    return np.sqrt(np.mean((self.predic - self.target)**2))\n",
    "\n",
    "  def compute_gradient(self):\n",
    "    return (self.predic - self.target) / self.output\n",
    "\n",
    "  def __repr__(self):\n",
    "    return \"RMSE\""
   ]
  },
  {
   "cell_type": "code",
   "execution_count": 39,
   "metadata": {
    "colab": {
     "base_uri": "https://localhost:8080/"
    },
    "id": "-c0nYyjY7NcN",
    "outputId": "70ef7d0d-9848-48af-99ce-94bcbcf2531f"
   },
   "outputs": [
    {
     "data": {
      "text/plain": [
       "0.6567256619134507"
      ]
     },
     "execution_count": 39,
     "metadata": {},
     "output_type": "execute_result"
    }
   ],
   "source": [
    "error = RMSE()\n",
    "error.forward(y_hat, y)"
   ]
  },
  {
   "cell_type": "code",
   "execution_count": 40,
   "metadata": {
    "colab": {
     "base_uri": "https://localhost:8080/"
    },
    "id": "58Tdp0xd8qKS",
    "outputId": "abe063df-a6f4-4be0-feb6-6dd8a28fbd70"
   },
   "outputs": [
    {
     "data": {
      "text/plain": [
       "array([[-1.24222295],\n",
       "       [-0.70615824],\n",
       "       [-1.39907174],\n",
       "       [-0.02865243]])"
      ]
     },
     "execution_count": 40,
     "metadata": {},
     "output_type": "execute_result"
    }
   ],
   "source": [
    "error.backward()"
   ]
  },
  {
   "cell_type": "code",
   "execution_count": 41,
   "metadata": {
    "id": "_ucvD9OpEnw5"
   },
   "outputs": [],
   "source": [
    "class MAE(LossBox):\n",
    "  def __init__(self):\n",
    "    super().__init__()\n",
    "\n",
    "  def compute(self):\n",
    "    return (np.mean(np.abs(self.predic - self.target)))\n",
    "\n",
    "  def compute_gradient(self):\n",
    "    return 1/len(self.predic) * np.sign(self.predic - self.target)\n",
    "\n",
    "  def __repr__(self):\n",
    "    return \"MAE\""
   ]
  },
  {
   "cell_type": "code",
   "execution_count": 42,
   "metadata": {
    "colab": {
     "base_uri": "https://localhost:8080/"
    },
    "id": "X4W6beRWE9g7",
    "outputId": "85425f62-fe17-4fbf-b267-37eadeb8579a"
   },
   "outputs": [
    {
     "data": {
      "text/plain": [
       "0.5542937550326653"
      ]
     },
     "execution_count": 42,
     "metadata": {},
     "output_type": "execute_result"
    }
   ],
   "source": [
    "err=MAE()\n",
    "err.forward(y_hat, y)"
   ]
  },
  {
   "cell_type": "code",
   "execution_count": 43,
   "metadata": {
    "colab": {
     "base_uri": "https://localhost:8080/"
    },
    "id": "n3u7pECCFLeC",
    "outputId": "2b3c1814-e3cd-4878-b88f-fa664142502a"
   },
   "outputs": [
    {
     "data": {
      "text/plain": [
       "array([[-0.25],\n",
       "       [-0.25],\n",
       "       [-0.25],\n",
       "       [-0.25]])"
      ]
     },
     "execution_count": 43,
     "metadata": {},
     "output_type": "execute_result"
    }
   ],
   "source": [
    "err.backward()"
   ]
  },
  {
   "cell_type": "markdown",
   "metadata": {
    "id": "3XVk5Kh7ICuP"
   },
   "source": [
    "## Creation des Couches du réseau"
   ]
  },
  {
   "cell_type": "code",
   "execution_count": 44,
   "metadata": {
    "id": "fgAiOdwS31R-"
   },
   "outputs": [],
   "source": [
    "class Dense:\n",
    "  def __init__(self, neurons : int, activation=Linear()):\n",
    "    self.neurons = neurons\n",
    "    self.activation = activation\n",
    "    self.operations=[]\n",
    "    self.initialisation=True\n",
    "    self.imputs_size=None\n",
    "    self.weights=None\n",
    "    self.bias=None\n",
    "\n",
    "  def builder(self, imputs_size : int, random_state=0):\n",
    "    np.random.seed(random_state)\n",
    "    self.imputs_size = imputs_size\n",
    "    self.weights = np.random.randn(self.imputs_size, self.neurons)\n",
    "    self.bias = np.random.randn(1, self.neurons)\n",
    "    self.operations.append(BoxDotOperation(self.weights))\n",
    "    self.operations.append(BoxAddBiasOperation(self.bias))\n",
    "    self.operations.append(self.activation)\n",
    "\n",
    "  def forward(self, imputs, random_state=0):\n",
    "\n",
    "    if self.initialisation :\n",
    "      self.builder(imputs.shape[1], random_state)\n",
    "      self.initialisation=False\n",
    "\n",
    "    tmp = imputs\n",
    "    for operation in self.operations:\n",
    "      tmp = operation.forward(tmp)\n",
    "\n",
    "    self.output=tmp\n",
    "    return self.output\n",
    "\n",
    "  def backward(self, derivee_output):\n",
    "    assert derivee_output.shape==self.output.shape\n",
    "\n",
    "    tmp = derivee_output\n",
    "    for operation in reversed(self.operations):\n",
    "      tmp = operation.backward(tmp)\n",
    "\n",
    "    self.derivee_input=tmp\n",
    "    return self.derivee_input\n",
    "\n",
    "  def update_params(self, lr=0.001):\n",
    "    for operation in self.operations:\n",
    "      if isinstance(operation, BoxParams):\n",
    "        operation.update_params(lr)\n",
    "\n",
    "  def __repr__(self):\n",
    "    return f\"Dense(nerons={self.neurons}, activation={self.activation})\""
   ]
  },
  {
   "cell_type": "code",
   "execution_count": 45,
   "metadata": {
    "id": "9aUsUPl0H_0H"
   },
   "outputs": [],
   "source": [
    "couche = Dense(2, Sigmoid())"
   ]
  },
  {
   "cell_type": "code",
   "execution_count": 46,
   "metadata": {
    "colab": {
     "base_uri": "https://localhost:8080/"
    },
    "id": "pIgYS_wEIGoE",
    "outputId": "5f14f03e-3a64-4ee0-ef4c-8ee23df42915"
   },
   "outputs": [
    {
     "data": {
      "text/plain": [
       "3"
      ]
     },
     "execution_count": 46,
     "metadata": {},
     "output_type": "execute_result"
    }
   ],
   "source": [
    "X.shape[1]"
   ]
  },
  {
   "cell_type": "code",
   "execution_count": 47,
   "metadata": {
    "colab": {
     "base_uri": "https://localhost:8080/"
    },
    "id": "3qFp4z3BIpr8",
    "outputId": "19a43829-8267-4b0e-a48c-fc3df0d323c3"
   },
   "outputs": [
    {
     "data": {
      "text/plain": [
       "array([[0.97538055, 0.99991095],\n",
       "       [0.99998383, 0.9999988 ],\n",
       "       [0.99999997, 0.9676852 ],\n",
       "       [0.99999835, 0.99921103]])"
      ]
     },
     "execution_count": 47,
     "metadata": {},
     "output_type": "execute_result"
    }
   ],
   "source": [
    "couche.forward(X)"
   ]
  },
  {
   "cell_type": "code",
   "execution_count": 48,
   "metadata": {
    "colab": {
     "base_uri": "https://localhost:8080/"
    },
    "id": "QAQRCaJUKDb5",
    "outputId": "96b7c7ae-6df2-433c-8779-198ebf5e4305"
   },
   "outputs": [
    {
     "name": "stdout",
     "output_type": "stream",
     "text": [
      "[[ 1.76405235  0.40015721]\n",
      " [ 0.97873798  2.2408932 ]\n",
      " [ 1.86755799 -0.97727788]]\n",
      "[[ 0.95008842 -0.15135721]]\n"
     ]
    }
   ],
   "source": [
    "for params in couche.operations:\n",
    "  if isinstance(params, BoxParams):\n",
    "    print(params.params)"
   ]
  },
  {
   "cell_type": "code",
   "execution_count": 49,
   "metadata": {
    "colab": {
     "base_uri": "https://localhost:8080/"
    },
    "id": "Ny5RtIr_JI1v",
    "outputId": "87ef2ae2-c84e-403f-f4ef-d62e2b96f4ab"
   },
   "outputs": [
    {
     "data": {
      "text/plain": [
       "array([[-0.10321885,  0.4105985 ],\n",
       "       [ 0.14404357,  1.45427351],\n",
       "       [ 0.76103773,  0.12167502],\n",
       "       [ 0.44386323,  0.33367433]])"
      ]
     },
     "execution_count": 49,
     "metadata": {},
     "output_type": "execute_result"
    }
   ],
   "source": [
    "d_out = np.random.randn(4,2)\n",
    "d_out"
   ]
  },
  {
   "cell_type": "code",
   "execution_count": 50,
   "metadata": {
    "colab": {
     "base_uri": "https://localhost:8080/"
    },
    "id": "iGJJmaDFJPqd",
    "outputId": "64fa26c2-fec8-4def-d9f3-0b1f3f3d0f9a"
   },
   "outputs": [
    {
     "data": {
      "text/plain": [
       "array([[-4.35779956e-03, -2.34399682e-03, -4.66471291e-03],\n",
       "       [ 4.80819828e-06,  6.19855804e-06,  2.64023033e-06],\n",
       "       [ 1.52257601e-03,  8.52627300e-03, -3.71834838e-03],\n",
       "       [ 1.06554315e-04,  5.90184734e-04, -2.55704407e-04]])"
      ]
     },
     "execution_count": 50,
     "metadata": {},
     "output_type": "execute_result"
    }
   ],
   "source": [
    "couche.backward(d_out)"
   ]
  },
  {
   "cell_type": "code",
   "execution_count": 51,
   "metadata": {
    "id": "xSSLqcDkJnWV"
   },
   "outputs": [],
   "source": [
    "couche.update_params(lr=0.001)"
   ]
  },
  {
   "cell_type": "code",
   "execution_count": 52,
   "metadata": {
    "colab": {
     "base_uri": "https://localhost:8080/"
    },
    "id": "3gX9Inc-J1Np",
    "outputId": "5236c1cc-81d9-48ad-b851-ac1e65da66a7"
   },
   "outputs": [
    {
     "name": "stdout",
     "output_type": "stream",
     "text": [
      "[[ 1.76405729  0.4001381 ]\n",
      " [ 0.9787454   2.24088416]\n",
      " [ 1.86755303 -0.97729027]]\n",
      "[[ 0.95009089 -0.15136131]]\n"
     ]
    }
   ],
   "source": [
    "for params in couche.operations:\n",
    "  if isinstance(params, BoxParams):\n",
    "    print(params.params)"
   ]
  },
  {
   "cell_type": "markdown",
   "metadata": {
    "id": "j4aALOLx6hzw"
   },
   "source": [
    "## Classe pour le reseau de neurones"
   ]
  },
  {
   "cell_type": "code",
   "execution_count": 53,
   "metadata": {
    "id": "0I0tgwQgQqDN"
   },
   "outputs": [],
   "source": [
    "from copy import deepcopy\n",
    "import pickle"
   ]
  },
  {
   "cell_type": "code",
   "execution_count": 54,
   "metadata": {
    "id": "gplS_3QV6gzX"
   },
   "outputs": [],
   "source": [
    "class NeuralNetwork:\n",
    "\n",
    "  def __init__(self, layers=[]):\n",
    "    self.layers = layers\n",
    "    self.loss = None\n",
    "    self.history=[]\n",
    "\n",
    "  def forward(self, inputs, random_state=0):\n",
    "    tmp = inputs\n",
    "    for layer in self.layers:\n",
    "      tmp = layer.forward(tmp, random_state)\n",
    "    self.output = tmp\n",
    "    return self.output\n",
    "\n",
    "  def backward(self, derivee_output):\n",
    "    tmp = derivee_output\n",
    "    for layer in reversed(self.layers):\n",
    "      tmp = layer.backward(tmp)\n",
    "\n",
    "    return tmp\n",
    "\n",
    "  def update_params(self, lr=0.001):\n",
    "    for layer in self.layers:\n",
    "      layer.update_params(lr)\n",
    "\n",
    "\n",
    "  def add(self, layer:Dense):\n",
    "    self.layers.append(layer)\n",
    "\n",
    "  def compile(self, loss=MSE()):\n",
    "    self.loss = loss\n",
    "\n",
    "  def print_train(self, loss_value, epoch, nb_epochs):\n",
    "    print(f\"Epoch {epoch}/{nb_epochs}\\n [==============================] - loss: {loss_value:.2f}\")\n",
    "    self.history.append(loss_value)\n",
    "\n",
    "  def fit(self, input_train, target_train, epochs : int, lr : float, random_state=0):\n",
    "    for epoch in range(epochs):\n",
    "      y_hat = self.forward(input_train, random_state)\n",
    "      loss_value = self.loss.forward(y_hat, target_train)\n",
    "      self.print_train(loss_value, epoch+1, epochs)\n",
    "      i=np.random.randint(input_train.shape[0])\n",
    "      #print(f\"- Targe {i} : {target_train[i]}\")\n",
    "      #print(f\"- Predict {i} : {y_hat[i]}\")\n",
    "      tmp = self.loss.backward()\n",
    "      self.backward(tmp)\n",
    "      self.update_params(lr)\n",
    "\n",
    "  def predict(self, input_test):\n",
    "    tmp = input_test\n",
    "    for layer in self.layers:\n",
    "      tmp = layer.forward(tmp)\n",
    "\n",
    "    return tmp\n",
    "\n",
    "  def save(self, path):\n",
    "    model_save = deepcopy(self)\n",
    "    with open(path, \"wb\") as f:\n",
    "      pickle.dump(model_save, f)\n",
    "\n",
    "  def __repr__(self):\n",
    "    r=\"-\"*40\n",
    "    r += \"\\n\"\n",
    "    for layer in self.layers:\n",
    "      r += f\"{layer} \\n\"\n",
    "    r += \"-\"*40\n",
    "    return r"
   ]
  },
  {
   "cell_type": "markdown",
   "metadata": {
    "id": "x53c-rORg5fU"
   },
   "source": [
    "# Application avec Boston Dataset"
   ]
  },
  {
   "cell_type": "code",
   "execution_count": 55,
   "metadata": {
    "id": "GS_mBSNjhRws"
   },
   "outputs": [],
   "source": [
    "import pandas as pd"
   ]
  },
  {
   "cell_type": "code",
   "execution_count": 56,
   "metadata": {
    "id": "yY8Wxv-8guPk"
   },
   "outputs": [
    {
     "name": "stderr",
     "output_type": "stream",
     "text": [
      "<>:2: SyntaxWarning: invalid escape sequence '\\s'\n",
      "<>:2: SyntaxWarning: invalid escape sequence '\\s'\n",
      "/var/folders/t8/tdnx2syd0dzdw07117t9wnqc0000gn/T/ipykernel_30849/176414485.py:2: SyntaxWarning: invalid escape sequence '\\s'\n",
      "  raw_data = pd.read_csv(data_url, sep=\"\\s+\", skiprows=22, header=None)\n"
     ]
    }
   ],
   "source": [
    "data_url = \"https://lib.stat.cmu.edu/datasets/boston\"\n",
    "raw_data = pd.read_csv(data_url, sep=\"\\s+\", skiprows=22, header=None)\n",
    "data = np.hstack([raw_data.values[::2, :], raw_data.values[1::2, :2]])\n",
    "target = raw_data.values[1::2, 2]\n",
    "target=target.reshape(-1,1)\n",
    "raw_data=pd.DataFrame(data)\n",
    "raw_data=raw_data.set_axis(['CRIM', 'ZN', 'INDUS', 'CHAS', 'NOX', 'RM', 'AGE', 'DIS', 'RAD', 'TAX', 'PTRATIO', 'B', 'LSTAT'], axis=1)\n",
    "raw_data['MEDV']=target"
   ]
  },
  {
   "cell_type": "code",
   "execution_count": 57,
   "metadata": {
    "colab": {
     "base_uri": "https://localhost:8080/",
     "height": 206
    },
    "id": "tXq7cNI_haVy",
    "outputId": "4eb7bb53-3c83-42ba-de23-34ae57daf6cc"
   },
   "outputs": [
    {
     "data": {
      "text/html": [
       "<div>\n",
       "<style scoped>\n",
       "    .dataframe tbody tr th:only-of-type {\n",
       "        vertical-align: middle;\n",
       "    }\n",
       "\n",
       "    .dataframe tbody tr th {\n",
       "        vertical-align: top;\n",
       "    }\n",
       "\n",
       "    .dataframe thead th {\n",
       "        text-align: right;\n",
       "    }\n",
       "</style>\n",
       "<table border=\"1\" class=\"dataframe\">\n",
       "  <thead>\n",
       "    <tr style=\"text-align: right;\">\n",
       "      <th></th>\n",
       "      <th>CRIM</th>\n",
       "      <th>ZN</th>\n",
       "      <th>INDUS</th>\n",
       "      <th>CHAS</th>\n",
       "      <th>NOX</th>\n",
       "      <th>RM</th>\n",
       "      <th>AGE</th>\n",
       "      <th>DIS</th>\n",
       "      <th>RAD</th>\n",
       "      <th>TAX</th>\n",
       "      <th>PTRATIO</th>\n",
       "      <th>B</th>\n",
       "      <th>LSTAT</th>\n",
       "      <th>MEDV</th>\n",
       "    </tr>\n",
       "  </thead>\n",
       "  <tbody>\n",
       "    <tr>\n",
       "      <th>0</th>\n",
       "      <td>0.00632</td>\n",
       "      <td>18.0</td>\n",
       "      <td>2.31</td>\n",
       "      <td>0.0</td>\n",
       "      <td>0.538</td>\n",
       "      <td>6.575</td>\n",
       "      <td>65.2</td>\n",
       "      <td>4.0900</td>\n",
       "      <td>1.0</td>\n",
       "      <td>296.0</td>\n",
       "      <td>15.3</td>\n",
       "      <td>396.90</td>\n",
       "      <td>4.98</td>\n",
       "      <td>24.0</td>\n",
       "    </tr>\n",
       "    <tr>\n",
       "      <th>1</th>\n",
       "      <td>0.02731</td>\n",
       "      <td>0.0</td>\n",
       "      <td>7.07</td>\n",
       "      <td>0.0</td>\n",
       "      <td>0.469</td>\n",
       "      <td>6.421</td>\n",
       "      <td>78.9</td>\n",
       "      <td>4.9671</td>\n",
       "      <td>2.0</td>\n",
       "      <td>242.0</td>\n",
       "      <td>17.8</td>\n",
       "      <td>396.90</td>\n",
       "      <td>9.14</td>\n",
       "      <td>21.6</td>\n",
       "    </tr>\n",
       "    <tr>\n",
       "      <th>2</th>\n",
       "      <td>0.02729</td>\n",
       "      <td>0.0</td>\n",
       "      <td>7.07</td>\n",
       "      <td>0.0</td>\n",
       "      <td>0.469</td>\n",
       "      <td>7.185</td>\n",
       "      <td>61.1</td>\n",
       "      <td>4.9671</td>\n",
       "      <td>2.0</td>\n",
       "      <td>242.0</td>\n",
       "      <td>17.8</td>\n",
       "      <td>392.83</td>\n",
       "      <td>4.03</td>\n",
       "      <td>34.7</td>\n",
       "    </tr>\n",
       "    <tr>\n",
       "      <th>3</th>\n",
       "      <td>0.03237</td>\n",
       "      <td>0.0</td>\n",
       "      <td>2.18</td>\n",
       "      <td>0.0</td>\n",
       "      <td>0.458</td>\n",
       "      <td>6.998</td>\n",
       "      <td>45.8</td>\n",
       "      <td>6.0622</td>\n",
       "      <td>3.0</td>\n",
       "      <td>222.0</td>\n",
       "      <td>18.7</td>\n",
       "      <td>394.63</td>\n",
       "      <td>2.94</td>\n",
       "      <td>33.4</td>\n",
       "    </tr>\n",
       "    <tr>\n",
       "      <th>4</th>\n",
       "      <td>0.06905</td>\n",
       "      <td>0.0</td>\n",
       "      <td>2.18</td>\n",
       "      <td>0.0</td>\n",
       "      <td>0.458</td>\n",
       "      <td>7.147</td>\n",
       "      <td>54.2</td>\n",
       "      <td>6.0622</td>\n",
       "      <td>3.0</td>\n",
       "      <td>222.0</td>\n",
       "      <td>18.7</td>\n",
       "      <td>396.90</td>\n",
       "      <td>5.33</td>\n",
       "      <td>36.2</td>\n",
       "    </tr>\n",
       "  </tbody>\n",
       "</table>\n",
       "</div>"
      ],
      "text/plain": [
       "      CRIM    ZN  INDUS  CHAS    NOX     RM   AGE     DIS  RAD    TAX  \\\n",
       "0  0.00632  18.0   2.31   0.0  0.538  6.575  65.2  4.0900  1.0  296.0   \n",
       "1  0.02731   0.0   7.07   0.0  0.469  6.421  78.9  4.9671  2.0  242.0   \n",
       "2  0.02729   0.0   7.07   0.0  0.469  7.185  61.1  4.9671  2.0  242.0   \n",
       "3  0.03237   0.0   2.18   0.0  0.458  6.998  45.8  6.0622  3.0  222.0   \n",
       "4  0.06905   0.0   2.18   0.0  0.458  7.147  54.2  6.0622  3.0  222.0   \n",
       "\n",
       "   PTRATIO       B  LSTAT  MEDV  \n",
       "0     15.3  396.90   4.98  24.0  \n",
       "1     17.8  396.90   9.14  21.6  \n",
       "2     17.8  392.83   4.03  34.7  \n",
       "3     18.7  394.63   2.94  33.4  \n",
       "4     18.7  396.90   5.33  36.2  "
      ]
     },
     "execution_count": 57,
     "metadata": {},
     "output_type": "execute_result"
    }
   ],
   "source": [
    "raw_data.head()"
   ]
  },
  {
   "cell_type": "code",
   "execution_count": 58,
   "metadata": {
    "id": "YU_yYW91kOYW"
   },
   "outputs": [],
   "source": [
    "X=np.array(raw_data.drop('MEDV', axis=1))\n",
    "y=np.array(raw_data['MEDV'])"
   ]
  },
  {
   "cell_type": "code",
   "execution_count": 59,
   "metadata": {
    "id": "K8hZ3UOQkgDZ"
   },
   "outputs": [],
   "source": [
    "y=y.reshape(-1,1)"
   ]
  },
  {
   "cell_type": "code",
   "execution_count": 60,
   "metadata": {
    "colab": {
     "base_uri": "https://localhost:8080/"
    },
    "id": "GRPYqeMDkcqo",
    "outputId": "02497e54-8ab0-4fb9-a410-f4d196ea7fb4"
   },
   "outputs": [
    {
     "data": {
      "text/plain": [
       "((506, 13), (506, 1))"
      ]
     },
     "execution_count": 60,
     "metadata": {},
     "output_type": "execute_result"
    }
   ],
   "source": [
    "X.shape, y.shape"
   ]
  },
  {
   "cell_type": "code",
   "execution_count": 61,
   "metadata": {
    "id": "5x5A2nZkhln8"
   },
   "outputs": [],
   "source": [
    "from sklearn.preprocessing import StandardScaler\n",
    "from sklearn.model_selection import train_test_split"
   ]
  },
  {
   "cell_type": "code",
   "execution_count": 62,
   "metadata": {
    "id": "nR6_lu1ChqYA"
   },
   "outputs": [],
   "source": [
    "X_train, X_test, y_train, y_test = train_test_split(X, y, test_size=0.3, random_state=0)"
   ]
  },
  {
   "cell_type": "code",
   "execution_count": 63,
   "metadata": {
    "id": "HWitfmqBhvZ0"
   },
   "outputs": [],
   "source": [
    "scalar=StandardScaler()\n",
    "X_train = scalar.fit_transform(X_train)\n",
    "X_test = scalar.transform(X_test)"
   ]
  },
  {
   "cell_type": "code",
   "execution_count": 64,
   "metadata": {
    "colab": {
     "base_uri": "https://localhost:8080/"
    },
    "id": "l_8rd3rNklXI",
    "outputId": "e5ad8901-9b3c-4c39-f9bf-54cfbc05aa06"
   },
   "outputs": [
    {
     "data": {
      "text/plain": [
       "((354, 13), (152, 13), (354, 1), (152, 1))"
      ]
     },
     "execution_count": 64,
     "metadata": {},
     "output_type": "execute_result"
    }
   ],
   "source": [
    "X_train.shape, X_test.shape, y_train.shape, y_test.shape"
   ]
  },
  {
   "cell_type": "code",
   "execution_count": 65,
   "metadata": {
    "id": "8Uzibcg9hxEh"
   },
   "outputs": [],
   "source": [
    "model_boston=NeuralNetwork()\n",
    "model_boston.add(Dense(20, Sigmoid()))\n",
    "model_boston.add(Dense(25, Sigmoid()))\n",
    "model_boston.add(Dense(1))\n",
    "model_boston.compile(MSE())"
   ]
  },
  {
   "cell_type": "code",
   "execution_count": 66,
   "metadata": {
    "colab": {
     "base_uri": "https://localhost:8080/"
    },
    "id": "0YoPKqQBQG08",
    "outputId": "2c3b2b04-e62d-4883-f28f-b5a9fd587710"
   },
   "outputs": [
    {
     "data": {
      "text/plain": [
       "----------------------------------------\n",
       "Dense(nerons=20, activation=Sigmoid) \n",
       "Dense(nerons=25, activation=Sigmoid) \n",
       "Dense(nerons=1, activation=Linear) \n",
       "----------------------------------------"
      ]
     },
     "execution_count": 66,
     "metadata": {},
     "output_type": "execute_result"
    }
   ],
   "source": [
    "model_boston"
   ]
  },
  {
   "cell_type": "code",
   "execution_count": 67,
   "metadata": {
    "colab": {
     "base_uri": "https://localhost:8080/"
    },
    "id": "CGZa3Dkih5gu",
    "outputId": "45409cd7-2ec4-4676-da3c-c0c9bff0c19d",
    "scrolled": true
   },
   "outputs": [
    {
     "name": "stdout",
     "output_type": "stream",
     "text": [
      "Epoch 1/100\n",
      " [==============================] - loss: 364.04\n",
      "Epoch 2/100\n",
      " [==============================] - loss: 75.79\n",
      "Epoch 3/100\n",
      " [==============================] - loss: 63.20\n",
      "Epoch 4/100\n",
      " [==============================] - loss: 56.22\n",
      "Epoch 5/100\n",
      " [==============================] - loss: 51.63\n",
      "Epoch 6/100\n",
      " [==============================] - loss: 48.22\n",
      "Epoch 7/100\n",
      " [==============================] - loss: 45.45\n",
      "Epoch 8/100\n",
      " [==============================] - loss: 43.09\n",
      "Epoch 9/100\n",
      " [==============================] - loss: 41.05\n",
      "Epoch 10/100\n",
      " [==============================] - loss: 39.27\n",
      "Epoch 11/100\n",
      " [==============================] - loss: 37.70\n",
      "Epoch 12/100\n",
      " [==============================] - loss: 36.29\n",
      "Epoch 13/100\n",
      " [==============================] - loss: 35.02\n",
      "Epoch 14/100\n",
      " [==============================] - loss: 33.86\n",
      "Epoch 15/100\n",
      " [==============================] - loss: 32.81\n",
      "Epoch 16/100\n",
      " [==============================] - loss: 31.84\n",
      "Epoch 17/100\n",
      " [==============================] - loss: 30.95\n",
      "Epoch 18/100\n",
      " [==============================] - loss: 30.12\n",
      "Epoch 19/100\n",
      " [==============================] - loss: 29.36\n",
      "Epoch 20/100\n",
      " [==============================] - loss: 28.65\n",
      "Epoch 21/100\n",
      " [==============================] - loss: 27.99\n",
      "Epoch 22/100\n",
      " [==============================] - loss: 27.38\n",
      "Epoch 23/100\n",
      " [==============================] - loss: 26.80\n",
      "Epoch 24/100\n",
      " [==============================] - loss: 26.26\n",
      "Epoch 25/100\n",
      " [==============================] - loss: 25.75\n",
      "Epoch 26/100\n",
      " [==============================] - loss: 25.26\n",
      "Epoch 27/100\n",
      " [==============================] - loss: 24.80\n",
      "Epoch 28/100\n",
      " [==============================] - loss: 24.36\n",
      "Epoch 29/100\n",
      " [==============================] - loss: 23.94\n",
      "Epoch 30/100\n",
      " [==============================] - loss: 23.54\n",
      "Epoch 31/100\n",
      " [==============================] - loss: 23.15\n",
      "Epoch 32/100\n",
      " [==============================] - loss: 22.78\n",
      "Epoch 33/100\n",
      " [==============================] - loss: 22.43\n",
      "Epoch 34/100\n",
      " [==============================] - loss: 22.08\n",
      "Epoch 35/100\n",
      " [==============================] - loss: 21.75\n",
      "Epoch 36/100\n",
      " [==============================] - loss: 21.43\n",
      "Epoch 37/100\n",
      " [==============================] - loss: 21.12\n",
      "Epoch 38/100\n",
      " [==============================] - loss: 20.82\n",
      "Epoch 39/100\n",
      " [==============================] - loss: 20.53\n",
      "Epoch 40/100\n",
      " [==============================] - loss: 20.25\n",
      "Epoch 41/100\n",
      " [==============================] - loss: 19.98\n",
      "Epoch 42/100\n",
      " [==============================] - loss: 19.71\n",
      "Epoch 43/100\n",
      " [==============================] - loss: 19.46\n",
      "Epoch 44/100\n",
      " [==============================] - loss: 19.21\n",
      "Epoch 45/100\n",
      " [==============================] - loss: 18.97\n",
      "Epoch 46/100\n",
      " [==============================] - loss: 18.74\n",
      "Epoch 47/100\n",
      " [==============================] - loss: 18.52\n",
      "Epoch 48/100\n",
      " [==============================] - loss: 18.30\n",
      "Epoch 49/100\n",
      " [==============================] - loss: 18.09\n",
      "Epoch 50/100\n",
      " [==============================] - loss: 17.88\n",
      "Epoch 51/100\n",
      " [==============================] - loss: 17.68\n",
      "Epoch 52/100\n",
      " [==============================] - loss: 17.48\n",
      "Epoch 53/100\n",
      " [==============================] - loss: 17.29\n",
      "Epoch 54/100\n",
      " [==============================] - loss: 17.11\n",
      "Epoch 55/100\n",
      " [==============================] - loss: 16.93\n",
      "Epoch 56/100\n",
      " [==============================] - loss: 16.75\n",
      "Epoch 57/100\n",
      " [==============================] - loss: 16.57\n",
      "Epoch 58/100\n",
      " [==============================] - loss: 16.40\n",
      "Epoch 59/100\n",
      " [==============================] - loss: 16.24\n",
      "Epoch 60/100\n",
      " [==============================] - loss: 16.07\n",
      "Epoch 61/100\n",
      " [==============================] - loss: 15.91\n",
      "Epoch 62/100\n",
      " [==============================] - loss: 15.75\n",
      "Epoch 63/100\n",
      " [==============================] - loss: 15.60\n",
      "Epoch 64/100\n",
      " [==============================] - loss: 15.44\n",
      "Epoch 65/100\n",
      " [==============================] - loss: 15.29\n",
      "Epoch 66/100\n",
      " [==============================] - loss: 15.15\n",
      "Epoch 67/100\n",
      " [==============================] - loss: 15.00\n",
      "Epoch 68/100\n",
      " [==============================] - loss: 14.86\n",
      "Epoch 69/100\n",
      " [==============================] - loss: 14.72\n",
      "Epoch 70/100\n",
      " [==============================] - loss: 14.58\n",
      "Epoch 71/100\n",
      " [==============================] - loss: 14.44\n",
      "Epoch 72/100\n",
      " [==============================] - loss: 14.31\n",
      "Epoch 73/100\n",
      " [==============================] - loss: 14.18\n",
      "Epoch 74/100\n",
      " [==============================] - loss: 14.05\n",
      "Epoch 75/100\n",
      " [==============================] - loss: 13.92\n",
      "Epoch 76/100\n",
      " [==============================] - loss: 13.80\n",
      "Epoch 77/100\n",
      " [==============================] - loss: 13.67\n",
      "Epoch 78/100\n",
      " [==============================] - loss: 13.55\n",
      "Epoch 79/100\n",
      " [==============================] - loss: 13.44\n",
      "Epoch 80/100\n",
      " [==============================] - loss: 13.32\n",
      "Epoch 81/100\n",
      " [==============================] - loss: 13.21\n",
      "Epoch 82/100\n",
      " [==============================] - loss: 13.10\n",
      "Epoch 83/100\n",
      " [==============================] - loss: 12.99\n",
      "Epoch 84/100\n",
      " [==============================] - loss: 12.88\n",
      "Epoch 85/100\n",
      " [==============================] - loss: 12.78\n",
      "Epoch 86/100\n",
      " [==============================] - loss: 12.67\n",
      "Epoch 87/100\n",
      " [==============================] - loss: 12.57\n",
      "Epoch 88/100\n",
      " [==============================] - loss: 12.48\n",
      "Epoch 89/100\n",
      " [==============================] - loss: 12.38\n",
      "Epoch 90/100\n",
      " [==============================] - loss: 12.29\n",
      "Epoch 91/100\n",
      " [==============================] - loss: 12.20\n",
      "Epoch 92/100\n",
      " [==============================] - loss: 12.11\n",
      "Epoch 93/100\n",
      " [==============================] - loss: 12.02\n",
      "Epoch 94/100\n",
      " [==============================] - loss: 11.93\n",
      "Epoch 95/100\n",
      " [==============================] - loss: 11.85\n",
      "Epoch 96/100\n",
      " [==============================] - loss: 11.76\n",
      "Epoch 97/100\n",
      " [==============================] - loss: 11.68\n",
      "Epoch 98/100\n",
      " [==============================] - loss: 11.60\n",
      "Epoch 99/100\n",
      " [==============================] - loss: 11.52\n",
      "Epoch 100/100\n",
      " [==============================] - loss: 11.45\n"
     ]
    }
   ],
   "source": [
    "model_boston.fit(X_train, y_train, 100, 0.0001, random_state=0)"
   ]
  },
  {
   "cell_type": "code",
   "execution_count": 68,
   "metadata": {
    "colab": {
     "base_uri": "https://localhost:8080/",
     "height": 447
    },
    "id": "8SEWrbRjidEz",
    "outputId": "7ebb3d62-bbe1-4ce3-b681-21c26ad9a6a9"
   },
   "outputs": [
    {
     "data": {
      "text/plain": [
       "[<matplotlib.lines.Line2D at 0x1279111c0>]"
      ]
     },
     "execution_count": 68,
     "metadata": {},
     "output_type": "execute_result"
    },
    {
     "data": {
      "image/png": "[encoded data removed]",
      "text/plain": [
       "<Figure size 640x480 with 1 Axes>"
      ]
     },
     "metadata": {},
     "output_type": "display_data"
    }
   ],
   "source": [
    "plt.plot(model_boston.history)"
   ]
  },
  {
   "cell_type": "code",
   "execution_count": 69,
   "metadata": {
    "id": "bepHSSN0jwl1"
   },
   "outputs": [],
   "source": [
    "y_predict=model_boston.predict(X_test)"
   ]
  },
  {
   "cell_type": "code",
   "execution_count": 70,
   "metadata": {
    "colab": {
     "base_uri": "https://localhost:8080/"
    },
    "id": "y08hG5Gbj-CY",
    "outputId": "90c08db1-9e3b-4bb7-bae0-49460be0358c"
   },
   "outputs": [
    {
     "data": {
      "text/plain": [
       "(4.715871333132778, 3.3832890057423275)"
      ]
     },
     "execution_count": 70,
     "metadata": {},
     "output_type": "execute_result"
    }
   ],
   "source": [
    "error=RMSE()\n",
    "error.forward(y_predict, y_test), np.sqrt(model_boston.history[-1])"
   ]
  },
  {
   "cell_type": "code",
   "execution_count": 71,
   "metadata": {
    "colab": {
     "base_uri": "https://localhost:8080/"
    },
    "id": "Eugupe8ZqiQm",
    "outputId": "c4edc750-a116-4737-822d-cbc5d499dd85"
   },
   "outputs": [
    {
     "data": {
      "text/plain": [
       "2.875335294168767"
      ]
     },
     "execution_count": 71,
     "metadata": {},
     "output_type": "execute_result"
    }
   ],
   "source": [
    "error=MAE()\n",
    "error.forward(y_predict, y_test)"
   ]
  },
  {
   "cell_type": "code",
   "execution_count": 72,
   "metadata": {
    "colab": {
     "base_uri": "https://localhost:8080/"
    },
    "id": "qWITBdFOqo8q",
    "outputId": "bb0c5d85-2d70-4aab-aa69-621c2984e643"
   },
   "outputs": [
    {
     "data": {
      "text/plain": [
       "(67, 15.0, 18.445956407174773)"
      ]
     },
     "execution_count": 72,
     "metadata": {},
     "output_type": "execute_result"
    }
   ],
   "source": [
    "i=np.random.randint(y_test.shape[0])\n",
    "i, y_test[i,0], y_predict[i,0]"
   ]
  },
  {
   "cell_type": "code",
   "execution_count": 73,
   "metadata": {
    "colab": {
     "base_uri": "https://localhost:8080/",
     "height": 430
    },
    "id": "IwP41ktFzo1S",
    "outputId": "9a49d5c8-1010-40d8-8039-ebdba1105694"
   },
   "outputs": [
    {
     "data": {
      "image/png": "[encoded data removed]",
      "text/plain": [
       "<Figure size 640x480 with 1 Axes>"
      ]
     },
     "metadata": {},
     "output_type": "display_data"
    }
   ],
   "source": [
    "plt.hist((y_predict-y_test))\n",
    "plt.show()"
   ]
  },
  {
   "cell_type": "code",
   "execution_count": 74,
   "metadata": {
    "colab": {
     "base_uri": "https://localhost:8080/"
    },
    "id": "F9kUM5Ex02tj",
    "outputId": "8d25089a-db20-4143-db6e-dd710cfb1409"
   },
   "outputs": [
    {
     "data": {
      "text/plain": [
       "----------------------------------------\n",
       "Dense(nerons=20, activation=Sigmoid) \n",
       "Dense(nerons=25, activation=Sigmoid) \n",
       "Dense(nerons=1, activation=Linear) \n",
       "----------------------------------------"
      ]
     },
     "execution_count": 74,
     "metadata": {},
     "output_type": "execute_result"
    }
   ],
   "source": [
    "model_boston"
   ]
  },
  {
   "cell_type": "code",
   "execution_count": 75,
   "metadata": {
    "id": "SrIIvz7wP6zv"
   },
   "outputs": [],
   "source": [
    "model_boston.save(\"model_boston.pkl\")"
   ]
  },
  {
   "cell_type": "code",
   "execution_count": 76,
   "metadata": {
    "id": "47JjYNszRRGK"
   },
   "outputs": [],
   "source": [
    "def load_model(path):\n",
    "  with open(path, \"rb\") as f:\n",
    "    model = pickle.load(f)\n",
    "  return model"
   ]
  },
  {
   "cell_type": "code",
   "execution_count": 77,
   "metadata": {
    "id": "oMdlz3bgRbsO"
   },
   "outputs": [],
   "source": [
    "model_loaded = load_model(\"model_boston.pkl\")"
   ]
  },
  {
   "cell_type": "code",
   "execution_count": 78,
   "metadata": {
    "colab": {
     "base_uri": "https://localhost:8080/"
    },
    "id": "rlyu0cDWRhwp",
    "outputId": "3f2cab98-3c26-4404-b95c-fbf5f2ed1cb7"
   },
   "outputs": [
    {
     "data": {
      "text/plain": [
       "----------------------------------------\n",
       "Dense(nerons=20, activation=Sigmoid) \n",
       "Dense(nerons=25, activation=Sigmoid) \n",
       "Dense(nerons=1, activation=Linear) \n",
       "----------------------------------------"
      ]
     },
     "execution_count": 78,
     "metadata": {},
     "output_type": "execute_result"
    }
   ],
   "source": [
    "model_loaded"
   ]
  },
  {
   "cell_type": "markdown",
   "metadata": {
    "id": "_MRgHSPGSwYQ"
   },
   "source": [
    "# Creer un modèle en utilisant Tensorflow"
   ]
  },
  {
   "cell_type": "code",
   "execution_count": 79,
   "metadata": {
    "id": "VvdLFR_vSrQv"
   },
   "outputs": [
    {
     "name": "stderr",
     "output_type": "stream",
     "text": [
      "2025-04-16 13:20:57.334411: I tensorflow/core/platform/cpu_feature_guard.cc:210] This TensorFlow binary is optimized to use available CPU instructions in performance-critical operations.\n",
      "To enable the following instructions: AVX2 FMA, in other operations, rebuild TensorFlow with the appropriate compiler flags.\n"
     ]
    }
   ],
   "source": [
    "from tensorflow.keras.models import Sequential\n",
    "from tensorflow.keras.layers import Dense\n",
    "from tensorflow.keras.optimizers import SGD"
   ]
  },
  {
   "cell_type": "code",
   "execution_count": 80,
   "metadata": {
    "colab": {
     "base_uri": "https://localhost:8080/"
    },
    "id": "eouRueYKTTl7",
    "outputId": "cfd38557-e9c5-461c-c32a-e0ab35d1a48c"
   },
   "outputs": [
    {
     "name": "stderr",
     "output_type": "stream",
     "text": [
      "/Users/macbookpro/miniforge3/envs/tensorflow/lib/python3.12/site-packages/keras/src/layers/core/dense.py:87: UserWarning: Do not pass an `input_shape`/`input_dim` argument to a layer. When using Sequential models, prefer using an `Input(shape)` object as the first layer in the model instead.\n",
      "  super().__init__(activity_regularizer=activity_regularizer, **kwargs)\n"
     ]
    }
   ],
   "source": [
    "model = Sequential()\n",
    "model.add(Dense(20, activation='sigmoid', input_shape=(X_train.shape[1],)))\n",
    "model.add(Dense(25, activation='sigmoid'))\n",
    "model.add(Dense(1))"
   ]
  },
  {
   "cell_type": "code",
   "execution_count": 81,
   "metadata": {
    "colab": {
     "base_uri": "https://localhost:8080/",
     "height": 225
    },
    "id": "PG6KaCNlTb5T",
    "outputId": "ead96579-83a9-445f-af33-0e7b38a25146"
   },
   "outputs": [
    {
     "data": {
      "text/html": [
       "<pre style=\"white-space:pre;overflow-x:auto;line-height:normal;font-family:Menlo,'DejaVu Sans Mono',consolas,'Courier New',monospace\"><span style=\"font-weight: bold\">Model: \"sequential\"</span>\n",
       "</pre>\n"
      ],
      "text/plain": [
       "\u001b[1mModel: \"sequential\"\u001b[0m\n"
      ]
     },
     "metadata": {},
     "output_type": "display_data"
    },
    {
     "data": {
      "text/html": [
       "<pre style=\"white-space:pre;overflow-x:auto;line-height:normal;font-family:Menlo,'DejaVu Sans Mono',consolas,'Courier New',monospace\">┏━━━━━━━━━━━━━━━━━━━━━━━━━━━━━━━━━┳━━━━━━━━━━━━━━━━━━━━━━━━┳━━━━━━━━━━━━━━━┓\n",
       "┃<span style=\"font-weight: bold\"> Layer (type)                    </span>┃<span style=\"font-weight: bold\"> Output Shape           </span>┃<span style=\"font-weight: bold\">       Param # </span>┃\n",
       "┡━━━━━━━━━━━━━━━━━━━━━━━━━━━━━━━━━╇━━━━━━━━━━━━━━━━━━━━━━━━╇━━━━━━━━━━━━━━━┩\n",
       "│ dense (<span style=\"color: #0087ff; text-decoration-color: #0087ff\">Dense</span>)                   │ (<span style=\"color: #00d7ff; text-decoration-color: #00d7ff\">None</span>, <span style=\"color: #00af00; text-decoration-color: #00af00\">20</span>)             │           <span style=\"color: #00af00; text-decoration-color: #00af00\">280</span> │\n",
       "├─────────────────────────────────┼────────────────────────┼───────────────┤\n",
       "│ dense_1 (<span style=\"color: #0087ff; text-decoration-color: #0087ff\">Dense</span>)                 │ (<span style=\"color: #00d7ff; text-decoration-color: #00d7ff\">None</span>, <span style=\"color: #00af00; text-decoration-color: #00af00\">25</span>)             │           <span style=\"color: #00af00; text-decoration-color: #00af00\">525</span> │\n",
       "├─────────────────────────────────┼────────────────────────┼───────────────┤\n",
       "│ dense_2 (<span style=\"color: #0087ff; text-decoration-color: #0087ff\">Dense</span>)                 │ (<span style=\"color: #00d7ff; text-decoration-color: #00d7ff\">None</span>, <span style=\"color: #00af00; text-decoration-color: #00af00\">1</span>)              │            <span style=\"color: #00af00; text-decoration-color: #00af00\">26</span> │\n",
       "└─────────────────────────────────┴────────────────────────┴───────────────┘\n",
       "</pre>\n"
      ],
      "text/plain": [
       "┏━━━━━━━━━━━━━━━━━━━━━━━━━━━━━━━━━┳━━━━━━━━━━━━━━━━━━━━━━━━┳━━━━━━━━━━━━━━━┓\n",
       "┃\u001b[1m \u001b[0m\u001b[1mLayer (type)                   \u001b[0m\u001b[1m \u001b[0m┃\u001b[1m \u001b[0m\u001b[1mOutput Shape          \u001b[0m\u001b[1m \u001b[0m┃\u001b[1m \u001b[0m\u001b[1m      Param #\u001b[0m\u001b[1m \u001b[0m┃\n",
       "┡━━━━━━━━━━━━━━━━━━━━━━━━━━━━━━━━━╇━━━━━━━━━━━━━━━━━━━━━━━━╇━━━━━━━━━━━━━━━┩\n",
       "│ dense (\u001b[38;5;33mDense\u001b[0m)                   │ (\u001b[38;5;45mNone\u001b[0m, \u001b[38;5;34m20\u001b[0m)             │           \u001b[38;5;34m280\u001b[0m │\n",
       "├─────────────────────────────────┼────────────────────────┼───────────────┤\n",
       "│ dense_1 (\u001b[38;5;33mDense\u001b[0m)                 │ (\u001b[38;5;45mNone\u001b[0m, \u001b[38;5;34m25\u001b[0m)             │           \u001b[38;5;34m525\u001b[0m │\n",
       "├─────────────────────────────────┼────────────────────────┼───────────────┤\n",
       "│ dense_2 (\u001b[38;5;33mDense\u001b[0m)                 │ (\u001b[38;5;45mNone\u001b[0m, \u001b[38;5;34m1\u001b[0m)              │            \u001b[38;5;34m26\u001b[0m │\n",
       "└─────────────────────────────────┴────────────────────────┴───────────────┘\n"
      ]
     },
     "metadata": {},
     "output_type": "display_data"
    },
    {
     "data": {
      "text/html": [
       "<pre style=\"white-space:pre;overflow-x:auto;line-height:normal;font-family:Menlo,'DejaVu Sans Mono',consolas,'Courier New',monospace\"><span style=\"font-weight: bold\"> Total params: </span><span style=\"color: #00af00; text-decoration-color: #00af00\">831</span> (3.25 KB)\n",
       "</pre>\n"
      ],
      "text/plain": [
       "\u001b[1m Total params: \u001b[0m\u001b[38;5;34m831\u001b[0m (3.25 KB)\n"
      ]
     },
     "metadata": {},
     "output_type": "display_data"
    },
    {
     "data": {
      "text/html": [
       "<pre style=\"white-space:pre;overflow-x:auto;line-height:normal;font-family:Menlo,'DejaVu Sans Mono',consolas,'Courier New',monospace\"><span style=\"font-weight: bold\"> Trainable params: </span><span style=\"color: #00af00; text-decoration-color: #00af00\">831</span> (3.25 KB)\n",
       "</pre>\n"
      ],
      "text/plain": [
       "\u001b[1m Trainable params: \u001b[0m\u001b[38;5;34m831\u001b[0m (3.25 KB)\n"
      ]
     },
     "metadata": {},
     "output_type": "display_data"
    },
    {
     "data": {
      "text/html": [
       "<pre style=\"white-space:pre;overflow-x:auto;line-height:normal;font-family:Menlo,'DejaVu Sans Mono',consolas,'Courier New',monospace\"><span style=\"font-weight: bold\"> Non-trainable params: </span><span style=\"color: #00af00; text-decoration-color: #00af00\">0</span> (0.00 B)\n",
       "</pre>\n"
      ],
      "text/plain": [
       "\u001b[1m Non-trainable params: \u001b[0m\u001b[38;5;34m0\u001b[0m (0.00 B)\n"
      ]
     },
     "metadata": {},
     "output_type": "display_data"
    }
   ],
   "source": [
    "model.summary()"
   ]
  },
  {
   "cell_type": "code",
   "execution_count": 82,
   "metadata": {
    "id": "_hT0k897TeyR"
   },
   "outputs": [],
   "source": [
    "model.compile(optimizer=SGD(learning_rate=0.01), loss='mse')"
   ]
  },
  {
   "cell_type": "code",
   "execution_count": 83,
   "metadata": {
    "colab": {
     "base_uri": "https://localhost:8080/"
    },
    "id": "2i0Z6C2XUe0O",
    "outputId": "3c27f749-f285-4a6c-8d10-8d085c929943",
    "scrolled": true
   },
   "outputs": [
    {
     "name": "stdout",
     "output_type": "stream",
     "text": [
      "Epoch 1/100\n",
      "\u001b[1m12/12\u001b[0m \u001b[32m━━━━━━━━━━━━━━━━━━━━\u001b[0m\u001b[37m\u001b[0m \u001b[1m0s\u001b[0m 2ms/step - loss: 379.1943 \n",
      "Epoch 2/100\n",
      "\u001b[1m12/12\u001b[0m \u001b[32m━━━━━━━━━━━━━━━━━━━━\u001b[0m\u001b[37m\u001b[0m \u001b[1m0s\u001b[0m 2ms/step - loss: 77.9082\n",
      "Epoch 3/100\n",
      "\u001b[1m12/12\u001b[0m \u001b[32m━━━━━━━━━━━━━━━━━━━━\u001b[0m\u001b[37m\u001b[0m \u001b[1m0s\u001b[0m 1ms/step - loss: 53.7860\n",
      "Epoch 4/100\n",
      "\u001b[1m12/12\u001b[0m \u001b[32m━━━━━━━━━━━━━━━━━━━━\u001b[0m\u001b[37m\u001b[0m \u001b[1m0s\u001b[0m 2ms/step - loss: 47.3185\n",
      "Epoch 5/100\n",
      "\u001b[1m12/12\u001b[0m \u001b[32m━━━━━━━━━━━━━━━━━━━━\u001b[0m\u001b[37m\u001b[0m \u001b[1m0s\u001b[0m 2ms/step - loss: 37.9925\n",
      "Epoch 6/100\n",
      "\u001b[1m12/12\u001b[0m \u001b[32m━━━━━━━━━━━━━━━━━━━━\u001b[0m\u001b[37m\u001b[0m \u001b[1m0s\u001b[0m 2ms/step - loss: 38.0741\n",
      "Epoch 7/100\n",
      "\u001b[1m12/12\u001b[0m \u001b[32m━━━━━━━━━━━━━━━━━━━━\u001b[0m\u001b[37m\u001b[0m \u001b[1m0s\u001b[0m 1ms/step - loss: 37.1435\n",
      "Epoch 8/100\n",
      "\u001b[1m12/12\u001b[0m \u001b[32m━━━━━━━━━━━━━━━━━━━━\u001b[0m\u001b[37m\u001b[0m \u001b[1m0s\u001b[0m 1ms/step - loss: 34.2028\n",
      "Epoch 9/100\n",
      "\u001b[1m12/12\u001b[0m \u001b[32m━━━━━━━━━━━━━━━━━━━━\u001b[0m\u001b[37m\u001b[0m \u001b[1m0s\u001b[0m 1ms/step - loss: 32.6246\n",
      "Epoch 10/100\n",
      "\u001b[1m12/12\u001b[0m \u001b[32m━━━━━━━━━━━━━━━━━━━━\u001b[0m\u001b[37m\u001b[0m \u001b[1m0s\u001b[0m 1ms/step - loss: 22.9950\n",
      "Epoch 11/100\n",
      "\u001b[1m12/12\u001b[0m \u001b[32m━━━━━━━━━━━━━━━━━━━━\u001b[0m\u001b[37m\u001b[0m \u001b[1m0s\u001b[0m 1ms/step - loss: 25.5044\n",
      "Epoch 12/100\n",
      "\u001b[1m12/12\u001b[0m \u001b[32m━━━━━━━━━━━━━━━━━━━━\u001b[0m\u001b[37m\u001b[0m \u001b[1m0s\u001b[0m 1ms/step - loss: 20.1817\n",
      "Epoch 13/100\n",
      "\u001b[1m12/12\u001b[0m \u001b[32m━━━━━━━━━━━━━━━━━━━━\u001b[0m\u001b[37m\u001b[0m \u001b[1m0s\u001b[0m 1ms/step - loss: 19.0890\n",
      "Epoch 14/100\n",
      "\u001b[1m12/12\u001b[0m \u001b[32m━━━━━━━━━━━━━━━━━━━━\u001b[0m\u001b[37m\u001b[0m \u001b[1m0s\u001b[0m 2ms/step - loss: 19.8328\n",
      "Epoch 15/100\n",
      "\u001b[1m12/12\u001b[0m \u001b[32m━━━━━━━━━━━━━━━━━━━━\u001b[0m\u001b[37m\u001b[0m \u001b[1m0s\u001b[0m 1ms/step - loss: 24.0846\n",
      "Epoch 16/100\n",
      "\u001b[1m12/12\u001b[0m \u001b[32m━━━━━━━━━━━━━━━━━━━━\u001b[0m\u001b[37m\u001b[0m \u001b[1m0s\u001b[0m 1ms/step - loss: 21.9208\n",
      "Epoch 17/100\n",
      "\u001b[1m12/12\u001b[0m \u001b[32m━━━━━━━━━━━━━━━━━━━━\u001b[0m\u001b[37m\u001b[0m \u001b[1m0s\u001b[0m 1ms/step - loss: 16.9292\n",
      "Epoch 18/100\n",
      "\u001b[1m12/12\u001b[0m \u001b[32m━━━━━━━━━━━━━━━━━━━━\u001b[0m\u001b[37m\u001b[0m \u001b[1m0s\u001b[0m 1ms/step - loss: 21.1843\n",
      "Epoch 19/100\n",
      "\u001b[1m12/12\u001b[0m \u001b[32m━━━━━━━━━━━━━━━━━━━━\u001b[0m\u001b[37m\u001b[0m \u001b[1m0s\u001b[0m 1ms/step - loss: 14.4291\n",
      "Epoch 20/100\n",
      "\u001b[1m12/12\u001b[0m \u001b[32m━━━━━━━━━━━━━━━━━━━━\u001b[0m\u001b[37m\u001b[0m \u001b[1m0s\u001b[0m 2ms/step - loss: 19.3856\n",
      "Epoch 21/100\n",
      "\u001b[1m12/12\u001b[0m \u001b[32m━━━━━━━━━━━━━━━━━━━━\u001b[0m\u001b[37m\u001b[0m \u001b[1m0s\u001b[0m 1ms/step - loss: 15.8234\n",
      "Epoch 22/100\n",
      "\u001b[1m12/12\u001b[0m \u001b[32m━━━━━━━━━━━━━━━━━━━━\u001b[0m\u001b[37m\u001b[0m \u001b[1m0s\u001b[0m 1ms/step - loss: 16.4462\n",
      "Epoch 23/100\n",
      "\u001b[1m12/12\u001b[0m \u001b[32m━━━━━━━━━━━━━━━━━━━━\u001b[0m\u001b[37m\u001b[0m \u001b[1m0s\u001b[0m 1ms/step - loss: 18.6722\n",
      "Epoch 24/100\n",
      "\u001b[1m12/12\u001b[0m \u001b[32m━━━━━━━━━━━━━━━━━━━━\u001b[0m\u001b[37m\u001b[0m \u001b[1m0s\u001b[0m 1ms/step - loss: 15.0294\n",
      "Epoch 25/100\n",
      "\u001b[1m12/12\u001b[0m \u001b[32m━━━━━━━━━━━━━━━━━━━━\u001b[0m\u001b[37m\u001b[0m \u001b[1m0s\u001b[0m 1ms/step - loss: 21.4543\n",
      "Epoch 26/100\n",
      "\u001b[1m12/12\u001b[0m \u001b[32m━━━━━━━━━━━━━━━━━━━━\u001b[0m\u001b[37m\u001b[0m \u001b[1m0s\u001b[0m 2ms/step - loss: 16.9177\n",
      "Epoch 27/100\n",
      "\u001b[1m12/12\u001b[0m \u001b[32m━━━━━━━━━━━━━━━━━━━━\u001b[0m\u001b[37m\u001b[0m \u001b[1m0s\u001b[0m 1ms/step - loss: 27.4929\n",
      "Epoch 28/100\n",
      "\u001b[1m12/12\u001b[0m \u001b[32m━━━━━━━━━━━━━━━━━━━━\u001b[0m\u001b[37m\u001b[0m \u001b[1m0s\u001b[0m 1ms/step - loss: 15.2314\n",
      "Epoch 29/100\n",
      "\u001b[1m12/12\u001b[0m \u001b[32m━━━━━━━━━━━━━━━━━━━━\u001b[0m\u001b[37m\u001b[0m \u001b[1m0s\u001b[0m 1ms/step - loss: 10.6433\n",
      "Epoch 30/100\n",
      "\u001b[1m12/12\u001b[0m \u001b[32m━━━━━━━━━━━━━━━━━━━━\u001b[0m\u001b[37m\u001b[0m \u001b[1m0s\u001b[0m 1ms/step - loss: 12.4016\n",
      "Epoch 31/100\n",
      "\u001b[1m12/12\u001b[0m \u001b[32m━━━━━━━━━━━━━━━━━━━━\u001b[0m\u001b[37m\u001b[0m \u001b[1m0s\u001b[0m 1ms/step - loss: 14.6105\n",
      "Epoch 32/100\n",
      "\u001b[1m12/12\u001b[0m \u001b[32m━━━━━━━━━━━━━━━━━━━━\u001b[0m\u001b[37m\u001b[0m \u001b[1m0s\u001b[0m 1ms/step - loss: 13.1342\n",
      "Epoch 33/100\n",
      "\u001b[1m12/12\u001b[0m \u001b[32m━━━━━━━━━━━━━━━━━━━━\u001b[0m\u001b[37m\u001b[0m \u001b[1m0s\u001b[0m 1ms/step - loss: 13.6382\n",
      "Epoch 34/100\n",
      "\u001b[1m12/12\u001b[0m \u001b[32m━━━━━━━━━━━━━━━━━━━━\u001b[0m\u001b[37m\u001b[0m \u001b[1m0s\u001b[0m 1ms/step - loss: 16.3779\n",
      "Epoch 35/100\n",
      "\u001b[1m12/12\u001b[0m \u001b[32m━━━━━━━━━━━━━━━━━━━━\u001b[0m\u001b[37m\u001b[0m \u001b[1m0s\u001b[0m 1ms/step - loss: 12.0549\n",
      "Epoch 36/100\n",
      "\u001b[1m12/12\u001b[0m \u001b[32m━━━━━━━━━━━━━━━━━━━━\u001b[0m\u001b[37m\u001b[0m \u001b[1m0s\u001b[0m 1ms/step - loss: 15.1616\n",
      "Epoch 37/100\n",
      "\u001b[1m12/12\u001b[0m \u001b[32m━━━━━━━━━━━━━━━━━━━━\u001b[0m\u001b[37m\u001b[0m \u001b[1m0s\u001b[0m 1ms/step - loss: 11.7953\n",
      "Epoch 38/100\n",
      "\u001b[1m12/12\u001b[0m \u001b[32m━━━━━━━━━━━━━━━━━━━━\u001b[0m\u001b[37m\u001b[0m \u001b[1m0s\u001b[0m 1ms/step - loss: 14.6952\n",
      "Epoch 39/100\n",
      "\u001b[1m12/12\u001b[0m \u001b[32m━━━━━━━━━━━━━━━━━━━━\u001b[0m\u001b[37m\u001b[0m \u001b[1m0s\u001b[0m 1ms/step - loss: 11.4176\n",
      "Epoch 40/100\n",
      "\u001b[1m12/12\u001b[0m \u001b[32m━━━━━━━━━━━━━━━━━━━━\u001b[0m\u001b[37m\u001b[0m \u001b[1m0s\u001b[0m 1ms/step - loss: 10.9413\n",
      "Epoch 41/100\n",
      "\u001b[1m12/12\u001b[0m \u001b[32m━━━━━━━━━━━━━━━━━━━━\u001b[0m\u001b[37m\u001b[0m \u001b[1m0s\u001b[0m 1ms/step - loss: 13.8338\n",
      "Epoch 42/100\n",
      "\u001b[1m12/12\u001b[0m \u001b[32m━━━━━━━━━━━━━━━━━━━━\u001b[0m\u001b[37m\u001b[0m \u001b[1m0s\u001b[0m 1ms/step - loss: 10.0193\n",
      "Epoch 43/100\n",
      "\u001b[1m12/12\u001b[0m \u001b[32m━━━━━━━━━━━━━━━━━━━━\u001b[0m\u001b[37m\u001b[0m \u001b[1m0s\u001b[0m 1ms/step - loss: 15.5050\n",
      "Epoch 44/100\n",
      "\u001b[1m12/12\u001b[0m \u001b[32m━━━━━━━━━━━━━━━━━━━━\u001b[0m\u001b[37m\u001b[0m \u001b[1m0s\u001b[0m 1ms/step - loss: 16.3774\n",
      "Epoch 45/100\n",
      "\u001b[1m12/12\u001b[0m \u001b[32m━━━━━━━━━━━━━━━━━━━━\u001b[0m\u001b[37m\u001b[0m \u001b[1m0s\u001b[0m 1ms/step - loss: 17.3153\n",
      "Epoch 46/100\n",
      "\u001b[1m12/12\u001b[0m \u001b[32m━━━━━━━━━━━━━━━━━━━━\u001b[0m\u001b[37m\u001b[0m \u001b[1m0s\u001b[0m 1ms/step - loss: 10.1093\n",
      "Epoch 47/100\n",
      "\u001b[1m12/12\u001b[0m \u001b[32m━━━━━━━━━━━━━━━━━━━━\u001b[0m\u001b[37m\u001b[0m \u001b[1m0s\u001b[0m 1ms/step - loss: 11.2966\n",
      "Epoch 48/100\n",
      "\u001b[1m12/12\u001b[0m \u001b[32m━━━━━━━━━━━━━━━━━━━━\u001b[0m\u001b[37m\u001b[0m \u001b[1m0s\u001b[0m 1ms/step - loss: 8.5776 \n",
      "Epoch 49/100\n",
      "\u001b[1m12/12\u001b[0m \u001b[32m━━━━━━━━━━━━━━━━━━━━\u001b[0m\u001b[37m\u001b[0m \u001b[1m0s\u001b[0m 1ms/step - loss: 10.5653\n",
      "Epoch 50/100\n",
      "\u001b[1m12/12\u001b[0m \u001b[32m━━━━━━━━━━━━━━━━━━━━\u001b[0m\u001b[37m\u001b[0m \u001b[1m0s\u001b[0m 2ms/step - loss: 11.8319\n",
      "Epoch 51/100\n",
      "\u001b[1m12/12\u001b[0m \u001b[32m━━━━━━━━━━━━━━━━━━━━\u001b[0m\u001b[37m\u001b[0m \u001b[1m0s\u001b[0m 1ms/step - loss: 13.0481\n",
      "Epoch 52/100\n",
      "\u001b[1m12/12\u001b[0m \u001b[32m━━━━━━━━━━━━━━━━━━━━\u001b[0m\u001b[37m\u001b[0m \u001b[1m0s\u001b[0m 1ms/step - loss: 9.49608\n",
      "Epoch 53/100\n",
      "\u001b[1m12/12\u001b[0m \u001b[32m━━━━━━━━━━━━━━━━━━━━\u001b[0m\u001b[37m\u001b[0m \u001b[1m0s\u001b[0m 1ms/step - loss: 8.3563\n",
      "Epoch 54/100\n",
      "\u001b[1m12/12\u001b[0m \u001b[32m━━━━━━━━━━━━━━━━━━━━\u001b[0m\u001b[37m\u001b[0m \u001b[1m0s\u001b[0m 1ms/step - loss: 10.3321\n",
      "Epoch 55/100\n",
      "\u001b[1m12/12\u001b[0m \u001b[32m━━━━━━━━━━━━━━━━━━━━\u001b[0m\u001b[37m\u001b[0m \u001b[1m0s\u001b[0m 2ms/step - loss: 21.5354\n",
      "Epoch 56/100\n",
      "\u001b[1m12/12\u001b[0m \u001b[32m━━━━━━━━━━━━━━━━━━━━\u001b[0m\u001b[37m\u001b[0m \u001b[1m0s\u001b[0m 2ms/step - loss: 10.1980\n",
      "Epoch 57/100\n",
      "\u001b[1m12/12\u001b[0m \u001b[32m━━━━━━━━━━━━━━━━━━━━\u001b[0m\u001b[37m\u001b[0m \u001b[1m0s\u001b[0m 1ms/step - loss: 10.8374\n",
      "Epoch 58/100\n",
      "\u001b[1m12/12\u001b[0m \u001b[32m━━━━━━━━━━━━━━━━━━━━\u001b[0m\u001b[37m\u001b[0m \u001b[1m0s\u001b[0m 1ms/step - loss: 8.7817\n",
      "Epoch 59/100\n",
      "\u001b[1m12/12\u001b[0m \u001b[32m━━━━━━━━━━━━━━━━━━━━\u001b[0m\u001b[37m\u001b[0m \u001b[1m0s\u001b[0m 1ms/step - loss: 9.1800 \n",
      "Epoch 60/100\n",
      "\u001b[1m12/12\u001b[0m \u001b[32m━━━━━━━━━━━━━━━━━━━━\u001b[0m\u001b[37m\u001b[0m \u001b[1m0s\u001b[0m 1ms/step - loss: 8.3111\n",
      "Epoch 61/100\n",
      "\u001b[1m12/12\u001b[0m \u001b[32m━━━━━━━━━━━━━━━━━━━━\u001b[0m\u001b[37m\u001b[0m \u001b[1m0s\u001b[0m 1ms/step - loss: 26.0916\n",
      "Epoch 62/100\n",
      "\u001b[1m12/12\u001b[0m \u001b[32m━━━━━━━━━━━━━━━━━━━━\u001b[0m\u001b[37m\u001b[0m \u001b[1m0s\u001b[0m 1ms/step - loss: 14.4041\n",
      "Epoch 63/100\n",
      "\u001b[1m12/12\u001b[0m \u001b[32m━━━━━━━━━━━━━━━━━━━━\u001b[0m\u001b[37m\u001b[0m \u001b[1m0s\u001b[0m 1ms/step - loss: 9.5892 \n",
      "Epoch 64/100\n",
      "\u001b[1m12/12\u001b[0m \u001b[32m━━━━━━━━━━━━━━━━━━━━\u001b[0m\u001b[37m\u001b[0m \u001b[1m0s\u001b[0m 1ms/step - loss: 10.4497\n",
      "Epoch 65/100\n",
      "\u001b[1m12/12\u001b[0m \u001b[32m━━━━━━━━━━━━━━━━━━━━\u001b[0m\u001b[37m\u001b[0m \u001b[1m0s\u001b[0m 1ms/step - loss: 9.8607 \n",
      "Epoch 66/100\n",
      "\u001b[1m12/12\u001b[0m \u001b[32m━━━━━━━━━━━━━━━━━━━━\u001b[0m\u001b[37m\u001b[0m \u001b[1m0s\u001b[0m 1ms/step - loss: 7.8841\n",
      "Epoch 67/100\n",
      "\u001b[1m12/12\u001b[0m \u001b[32m━━━━━━━━━━━━━━━━━━━━\u001b[0m\u001b[37m\u001b[0m \u001b[1m0s\u001b[0m 1ms/step - loss: 8.1848\n",
      "Epoch 68/100\n",
      "\u001b[1m12/12\u001b[0m \u001b[32m━━━━━━━━━━━━━━━━━━━━\u001b[0m\u001b[37m\u001b[0m \u001b[1m0s\u001b[0m 1ms/step - loss: 10.5308\n",
      "Epoch 69/100\n",
      "\u001b[1m12/12\u001b[0m \u001b[32m━━━━━━━━━━━━━━━━━━━━\u001b[0m\u001b[37m\u001b[0m \u001b[1m0s\u001b[0m 1ms/step - loss: 8.4079 \n",
      "Epoch 70/100\n",
      "\u001b[1m12/12\u001b[0m \u001b[32m━━━━━━━━━━━━━━━━━━━━\u001b[0m\u001b[37m\u001b[0m \u001b[1m0s\u001b[0m 1ms/step - loss: 10.1442\n",
      "Epoch 71/100\n",
      "\u001b[1m12/12\u001b[0m \u001b[32m━━━━━━━━━━━━━━━━━━━━\u001b[0m\u001b[37m\u001b[0m \u001b[1m0s\u001b[0m 1ms/step - loss: 13.2986\n",
      "Epoch 72/100\n",
      "\u001b[1m12/12\u001b[0m \u001b[32m━━━━━━━━━━━━━━━━━━━━\u001b[0m\u001b[37m\u001b[0m \u001b[1m0s\u001b[0m 1ms/step - loss: 7.5818\n",
      "Epoch 73/100\n",
      "\u001b[1m12/12\u001b[0m \u001b[32m━━━━━━━━━━━━━━━━━━━━\u001b[0m\u001b[37m\u001b[0m \u001b[1m0s\u001b[0m 6ms/step - loss: 9.5691  \n",
      "Epoch 74/100\n",
      "\u001b[1m12/12\u001b[0m \u001b[32m━━━━━━━━━━━━━━━━━━━━\u001b[0m\u001b[37m\u001b[0m \u001b[1m0s\u001b[0m 1ms/step - loss: 7.6088\n",
      "Epoch 75/100\n",
      "\u001b[1m12/12\u001b[0m \u001b[32m━━━━━━━━━━━━━━━━━━━━\u001b[0m\u001b[37m\u001b[0m \u001b[1m0s\u001b[0m 1ms/step - loss: 8.5556 \n",
      "Epoch 76/100\n",
      "\u001b[1m12/12\u001b[0m \u001b[32m━━━━━━━━━━━━━━━━━━━━\u001b[0m\u001b[37m\u001b[0m \u001b[1m0s\u001b[0m 1ms/step - loss: 10.1609\n",
      "Epoch 77/100\n",
      "\u001b[1m12/12\u001b[0m \u001b[32m━━━━━━━━━━━━━━━━━━━━\u001b[0m\u001b[37m\u001b[0m \u001b[1m0s\u001b[0m 1ms/step - loss: 7.8426\n",
      "Epoch 78/100\n",
      "\u001b[1m12/12\u001b[0m \u001b[32m━━━━━━━━━━━━━━━━━━━━\u001b[0m\u001b[37m\u001b[0m \u001b[1m0s\u001b[0m 2ms/step - loss: 7.6724\n",
      "Epoch 79/100\n",
      "\u001b[1m12/12\u001b[0m \u001b[32m━━━━━━━━━━━━━━━━━━━━\u001b[0m\u001b[37m\u001b[0m \u001b[1m0s\u001b[0m 1ms/step - loss: 7.5177\n",
      "Epoch 80/100\n",
      "\u001b[1m12/12\u001b[0m \u001b[32m━━━━━━━━━━━━━━━━━━━━\u001b[0m\u001b[37m\u001b[0m \u001b[1m0s\u001b[0m 1ms/step - loss: 7.5467\n",
      "Epoch 81/100\n",
      "\u001b[1m12/12\u001b[0m \u001b[32m━━━━━━━━━━━━━━━━━━━━\u001b[0m\u001b[37m\u001b[0m \u001b[1m0s\u001b[0m 1ms/step - loss: 8.2958\n",
      "Epoch 82/100\n",
      "\u001b[1m12/12\u001b[0m \u001b[32m━━━━━━━━━━━━━━━━━━━━\u001b[0m\u001b[37m\u001b[0m \u001b[1m0s\u001b[0m 1ms/step - loss: 7.7000\n",
      "Epoch 83/100\n",
      "\u001b[1m12/12\u001b[0m \u001b[32m━━━━━━━━━━━━━━━━━━━━\u001b[0m\u001b[37m\u001b[0m \u001b[1m0s\u001b[0m 1ms/step - loss: 24.5611\n",
      "Epoch 84/100\n",
      "\u001b[1m12/12\u001b[0m \u001b[32m━━━━━━━━━━━━━━━━━━━━\u001b[0m\u001b[37m\u001b[0m \u001b[1m0s\u001b[0m 1ms/step - loss: 10.4729\n",
      "Epoch 85/100\n",
      "\u001b[1m12/12\u001b[0m \u001b[32m━━━━━━━━━━━━━━━━━━━━\u001b[0m\u001b[37m\u001b[0m \u001b[1m0s\u001b[0m 1ms/step - loss: 5.9112\n",
      "Epoch 86/100\n",
      "\u001b[1m12/12\u001b[0m \u001b[32m━━━━━━━━━━━━━━━━━━━━\u001b[0m\u001b[37m\u001b[0m \u001b[1m0s\u001b[0m 1ms/step - loss: 6.7962\n",
      "Epoch 87/100\n",
      "\u001b[1m12/12\u001b[0m \u001b[32m━━━━━━━━━━━━━━━━━━━━\u001b[0m\u001b[37m\u001b[0m \u001b[1m0s\u001b[0m 1ms/step - loss: 9.9083 \n",
      "Epoch 88/100\n",
      "\u001b[1m12/12\u001b[0m \u001b[32m━━━━━━━━━━━━━━━━━━━━\u001b[0m\u001b[37m\u001b[0m \u001b[1m0s\u001b[0m 1ms/step - loss: 6.3330\n",
      "Epoch 89/100\n",
      "\u001b[1m12/12\u001b[0m \u001b[32m━━━━━━━━━━━━━━━━━━━━\u001b[0m\u001b[37m\u001b[0m \u001b[1m0s\u001b[0m 2ms/step - loss: 8.1833\n",
      "Epoch 90/100\n",
      "\u001b[1m12/12\u001b[0m \u001b[32m━━━━━━━━━━━━━━━━━━━━\u001b[0m\u001b[37m\u001b[0m \u001b[1m0s\u001b[0m 1ms/step - loss: 5.6732\n",
      "Epoch 91/100\n",
      "\u001b[1m12/12\u001b[0m \u001b[32m━━━━━━━━━━━━━━━━━━━━\u001b[0m\u001b[37m\u001b[0m \u001b[1m0s\u001b[0m 1ms/step - loss: 7.2691\n",
      "Epoch 92/100\n",
      "\u001b[1m12/12\u001b[0m \u001b[32m━━━━━━━━━━━━━━━━━━━━\u001b[0m\u001b[37m\u001b[0m \u001b[1m0s\u001b[0m 1ms/step - loss: 6.9688\n",
      "Epoch 93/100\n",
      "\u001b[1m12/12\u001b[0m \u001b[32m━━━━━━━━━━━━━━━━━━━━\u001b[0m\u001b[37m\u001b[0m \u001b[1m0s\u001b[0m 1ms/step - loss: 6.0537\n",
      "Epoch 94/100\n",
      "\u001b[1m12/12\u001b[0m \u001b[32m━━━━━━━━━━━━━━━━━━━━\u001b[0m\u001b[37m\u001b[0m \u001b[1m0s\u001b[0m 1ms/step - loss: 6.4295\n",
      "Epoch 95/100\n",
      "\u001b[1m12/12\u001b[0m \u001b[32m━━━━━━━━━━━━━━━━━━━━\u001b[0m\u001b[37m\u001b[0m \u001b[1m0s\u001b[0m 1ms/step - loss: 6.5002\n",
      "Epoch 96/100\n",
      "\u001b[1m12/12\u001b[0m \u001b[32m━━━━━━━━━━━━━━━━━━━━\u001b[0m\u001b[37m\u001b[0m \u001b[1m0s\u001b[0m 1ms/step - loss: 7.0080\n",
      "Epoch 97/100\n",
      "\u001b[1m12/12\u001b[0m \u001b[32m━━━━━━━━━━━━━━━━━━━━\u001b[0m\u001b[37m\u001b[0m \u001b[1m0s\u001b[0m 1ms/step - loss: 7.2851\n",
      "Epoch 98/100\n",
      "\u001b[1m12/12\u001b[0m \u001b[32m━━━━━━━━━━━━━━━━━━━━\u001b[0m\u001b[37m\u001b[0m \u001b[1m0s\u001b[0m 1ms/step - loss: 6.8734\n",
      "Epoch 99/100\n",
      "\u001b[1m12/12\u001b[0m \u001b[32m━━━━━━━━━━━━━━━━━━━━\u001b[0m\u001b[37m\u001b[0m \u001b[1m0s\u001b[0m 2ms/step - loss: 7.9345\n",
      "Epoch 100/100\n",
      "\u001b[1m12/12\u001b[0m \u001b[32m━━━━━━━━━━━━━━━━━━━━\u001b[0m\u001b[37m\u001b[0m \u001b[1m0s\u001b[0m 5ms/step - loss: 6.5118\n"
     ]
    }
   ],
   "source": [
    "h = model.fit(X_train, y_train, epochs=100)"
   ]
  },
  {
   "cell_type": "code",
   "execution_count": 84,
   "metadata": {
    "colab": {
     "base_uri": "https://localhost:8080/",
     "height": 430
    },
    "id": "tr5RyVPvVqgz",
    "outputId": "a9590180-e8f9-45bc-8ff7-fed027b2d37e"
   },
   "outputs": [
    {
     "data": {
      "image/png": "[encoded data removed]",
      "text/plain": [
       "<Figure size 640x480 with 1 Axes>"
      ]
     },
     "metadata": {},
     "output_type": "display_data"
    }
   ],
   "source": [
    "plt.plot(h.history['loss'], label='Modele Tensorflow')\n",
    "plt.plot(model_boston.history, label = 'Mon Tensorflow')\n",
    "plt.legend()\n",
    "plt.show()"
   ]
  },
  {
   "cell_type": "code",
   "execution_count": 85,
   "metadata": {
    "id": "hD3PBHyrV0qF"
   },
   "outputs": [],
   "source": [
    "from joblib import dump, load"
   ]
  },
  {
   "cell_type": "code",
   "execution_count": 86,
   "metadata": {
    "colab": {
     "base_uri": "https://localhost:8080/"
    },
    "id": "rBJnOTeuX8Gb",
    "outputId": "e1e8496b-3630-4c1d-b0e7-0a977c68e481"
   },
   "outputs": [
    {
     "data": {
      "text/plain": [
       "['model_boston.joblib']"
      ]
     },
     "execution_count": 86,
     "metadata": {},
     "output_type": "execute_result"
    }
   ],
   "source": [
    "dump(scalar, 'scaler.joblib')\n",
    "dump(model, 'model_boston.joblib')"
   ]
  },
  {
   "cell_type": "code",
   "execution_count": 87,
   "metadata": {
    "colab": {
     "base_uri": "https://localhost:8080/"
    },
    "id": "sBgIksooYEQ9",
    "outputId": "d9bd9abe-6883-479b-90d3-37d5d78b7efb"
   },
   "outputs": [],
   "source": [
    "model_tf = load('model_boston.joblib')"
   ]
  },
  {
   "cell_type": "code",
   "execution_count": 88,
   "metadata": {
    "colab": {
     "base_uri": "https://localhost:8080/",
     "height": 241
    },
    "id": "jHAkNc9RYIaa",
    "outputId": "38d69ef5-b6b2-45bd-fec8-730ef61156a7"
   },
   "outputs": [
    {
     "data": {
      "text/html": [
       "<pre style=\"white-space:pre;overflow-x:auto;line-height:normal;font-family:Menlo,'DejaVu Sans Mono',consolas,'Courier New',monospace\"><span style=\"font-weight: bold\">Model: \"sequential\"</span>\n",
       "</pre>\n"
      ],
      "text/plain": [
       "\u001b[1mModel: \"sequential\"\u001b[0m\n"
      ]
     },
     "metadata": {},
     "output_type": "display_data"
    },
    {
     "data": {
      "text/html": [
       "<pre style=\"white-space:pre;overflow-x:auto;line-height:normal;font-family:Menlo,'DejaVu Sans Mono',consolas,'Courier New',monospace\">┏━━━━━━━━━━━━━━━━━━━━━━━━━━━━━━━━━┳━━━━━━━━━━━━━━━━━━━━━━━━┳━━━━━━━━━━━━━━━┓\n",
       "┃<span style=\"font-weight: bold\"> Layer (type)                    </span>┃<span style=\"font-weight: bold\"> Output Shape           </span>┃<span style=\"font-weight: bold\">       Param # </span>┃\n",
       "┡━━━━━━━━━━━━━━━━━━━━━━━━━━━━━━━━━╇━━━━━━━━━━━━━━━━━━━━━━━━╇━━━━━━━━━━━━━━━┩\n",
       "│ dense (<span style=\"color: #0087ff; text-decoration-color: #0087ff\">Dense</span>)                   │ (<span style=\"color: #00d7ff; text-decoration-color: #00d7ff\">None</span>, <span style=\"color: #00af00; text-decoration-color: #00af00\">20</span>)             │           <span style=\"color: #00af00; text-decoration-color: #00af00\">280</span> │\n",
       "├─────────────────────────────────┼────────────────────────┼───────────────┤\n",
       "│ dense_1 (<span style=\"color: #0087ff; text-decoration-color: #0087ff\">Dense</span>)                 │ (<span style=\"color: #00d7ff; text-decoration-color: #00d7ff\">None</span>, <span style=\"color: #00af00; text-decoration-color: #00af00\">25</span>)             │           <span style=\"color: #00af00; text-decoration-color: #00af00\">525</span> │\n",
       "├─────────────────────────────────┼────────────────────────┼───────────────┤\n",
       "│ dense_2 (<span style=\"color: #0087ff; text-decoration-color: #0087ff\">Dense</span>)                 │ (<span style=\"color: #00d7ff; text-decoration-color: #00d7ff\">None</span>, <span style=\"color: #00af00; text-decoration-color: #00af00\">1</span>)              │            <span style=\"color: #00af00; text-decoration-color: #00af00\">26</span> │\n",
       "└─────────────────────────────────┴────────────────────────┴───────────────┘\n",
       "</pre>\n"
      ],
      "text/plain": [
       "┏━━━━━━━━━━━━━━━━━━━━━━━━━━━━━━━━━┳━━━━━━━━━━━━━━━━━━━━━━━━┳━━━━━━━━━━━━━━━┓\n",
       "┃\u001b[1m \u001b[0m\u001b[1mLayer (type)                   \u001b[0m\u001b[1m \u001b[0m┃\u001b[1m \u001b[0m\u001b[1mOutput Shape          \u001b[0m\u001b[1m \u001b[0m┃\u001b[1m \u001b[0m\u001b[1m      Param #\u001b[0m\u001b[1m \u001b[0m┃\n",
       "┡━━━━━━━━━━━━━━━━━━━━━━━━━━━━━━━━━╇━━━━━━━━━━━━━━━━━━━━━━━━╇━━━━━━━━━━━━━━━┩\n",
       "│ dense (\u001b[38;5;33mDense\u001b[0m)                   │ (\u001b[38;5;45mNone\u001b[0m, \u001b[38;5;34m20\u001b[0m)             │           \u001b[38;5;34m280\u001b[0m │\n",
       "├─────────────────────────────────┼────────────────────────┼───────────────┤\n",
       "│ dense_1 (\u001b[38;5;33mDense\u001b[0m)                 │ (\u001b[38;5;45mNone\u001b[0m, \u001b[38;5;34m25\u001b[0m)             │           \u001b[38;5;34m525\u001b[0m │\n",
       "├─────────────────────────────────┼────────────────────────┼───────────────┤\n",
       "│ dense_2 (\u001b[38;5;33mDense\u001b[0m)                 │ (\u001b[38;5;45mNone\u001b[0m, \u001b[38;5;34m1\u001b[0m)              │            \u001b[38;5;34m26\u001b[0m │\n",
       "└─────────────────────────────────┴────────────────────────┴───────────────┘\n"
      ]
     },
     "metadata": {},
     "output_type": "display_data"
    },
    {
     "data": {
      "text/html": [
       "<pre style=\"white-space:pre;overflow-x:auto;line-height:normal;font-family:Menlo,'DejaVu Sans Mono',consolas,'Courier New',monospace\"><span style=\"font-weight: bold\"> Total params: </span><span style=\"color: #00af00; text-decoration-color: #00af00\">833</span> (3.26 KB)\n",
       "</pre>\n"
      ],
      "text/plain": [
       "\u001b[1m Total params: \u001b[0m\u001b[38;5;34m833\u001b[0m (3.26 KB)\n"
      ]
     },
     "metadata": {},
     "output_type": "display_data"
    },
    {
     "data": {
      "text/html": [
       "<pre style=\"white-space:pre;overflow-x:auto;line-height:normal;font-family:Menlo,'DejaVu Sans Mono',consolas,'Courier New',monospace\"><span style=\"font-weight: bold\"> Trainable params: </span><span style=\"color: #00af00; text-decoration-color: #00af00\">831</span> (3.25 KB)\n",
       "</pre>\n"
      ],
      "text/plain": [
       "\u001b[1m Trainable params: \u001b[0m\u001b[38;5;34m831\u001b[0m (3.25 KB)\n"
      ]
     },
     "metadata": {},
     "output_type": "display_data"
    },
    {
     "data": {
      "text/html": [
       "<pre style=\"white-space:pre;overflow-x:auto;line-height:normal;font-family:Menlo,'DejaVu Sans Mono',consolas,'Courier New',monospace\"><span style=\"font-weight: bold\"> Non-trainable params: </span><span style=\"color: #00af00; text-decoration-color: #00af00\">0</span> (0.00 B)\n",
       "</pre>\n"
      ],
      "text/plain": [
       "\u001b[1m Non-trainable params: \u001b[0m\u001b[38;5;34m0\u001b[0m (0.00 B)\n"
      ]
     },
     "metadata": {},
     "output_type": "display_data"
    },
    {
     "data": {
      "text/html": [
       "<pre style=\"white-space:pre;overflow-x:auto;line-height:normal;font-family:Menlo,'DejaVu Sans Mono',consolas,'Courier New',monospace\"><span style=\"font-weight: bold\"> Optimizer params: </span><span style=\"color: #00af00; text-decoration-color: #00af00\">2</span> (12.00 B)\n",
       "</pre>\n"
      ],
      "text/plain": [
       "\u001b[1m Optimizer params: \u001b[0m\u001b[38;5;34m2\u001b[0m (12.00 B)\n"
      ]
     },
     "metadata": {},
     "output_type": "display_data"
    }
   ],
   "source": [
    "model_tf.summary()"
   ]
  }
 ],
 "metadata": {
  "colab": {
   "authorship_tag": "ABX9TyPcYV/0en/IGWLYZKkFxOYv",
   "include_colab_link": true,
   "provenance": []
  },
  "kernelspec": {
   "display_name": "Python 3 (ipykernel)",
   "language": "python",
   "name": "python3"
  },
  "language_info": {
   "codemirror_mode": {
    "name": "ipython",
    "version": 3
   },
   "file_extension": ".py",
   "mimetype": "text/x-python",
   "name": "python",
   "nbconvert_exporter": "python",
   "pygments_lexer": "ipython3",
   "version": "3.12.6"
  }
 },
 "nbformat": 4,
 "nbformat_minor": 4
}
